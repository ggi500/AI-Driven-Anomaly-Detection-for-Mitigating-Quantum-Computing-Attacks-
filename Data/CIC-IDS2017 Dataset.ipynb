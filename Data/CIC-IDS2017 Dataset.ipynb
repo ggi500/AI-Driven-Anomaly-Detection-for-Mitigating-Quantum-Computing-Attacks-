{
 "cells": [
  {
   "cell_type": "markdown",
   "metadata": {
    "id": "tGLYJuXmFBZI"
   },
   "source": [
    "# Web attack detection using CICIDS2017 dataset"
   ]
  },
  {
   "cell_type": "markdown",
   "metadata": {
    "id": "sNPL1uYLFF1U"
   },
   "source": [
    "Training data: \"Intrusion Detection Evaluation Dataset\" (CICIDS2017). Description page: https://www.unb.ca/cic/datasets/ids-2017.html\n",
    "\n",
    "The data set is public. Download link: http://205.174.165.80/CICDataset/CIC-IDS-2017/Dataset/\n",
    "\n",
    "CICIDS2017 combines 8 files recorded on different days of observation (PCAP + CSV). Used archive: http://205.174.165.80/CICDataset/CIC-IDS-2017/Dataset/GeneratedLabelledFlows.zip\n",
    "\n",
    "In the downloaded archive GeneratedLabelledFlows.zip the file \"Thursday\" Thursday-WorkingHours-Morning-WebAttacks.pcap_ISCX.csv is selected.\n",
    "\n",
    "Sources:\n",
    "\n",
    "* [Sharafaldin2018] Iman Sharafaldin, Arash Habibi Lashkari and Ali A. Ghorbani. Toward Generating a New Intrusion Detection Dataset and Intrusion Traffic Characterization. 2018\n",
    "* [Kostas2018] Kahraman Kostas. Anomaly Detection in Networks Using Machine Learning. 2018 (error was found in assessing the importance of features)\n",
    "* https://github.com/bozbil/Anomaly-Detection-in-Networks-Using-Machine-Learning (error was found in assessing the importance of features)"
   ]
  },
  {
   "cell_type": "markdown",
   "metadata": {
    "id": "SCEkDfpOFPQX"
   },
   "source": [
    "## Data preprocessing\n",
    "\n",
    "Source: https://github.com/bozbil/Anomaly-Detection-in-Networks-Using-Machine-Learning/blob/master/01_preprocessing.ipynb [Kostas2018]."
   ]
  },
  {
   "cell_type": "code",
   "execution_count": 1,
   "metadata": {
    "id": "hJVAToeYFV2Q"
   },
   "outputs": [],
   "source": [
    "import pandas as pd\n",
    "import numpy as np\n",
    "from sklearn import preprocessing\n",
    "import matplotlib.pyplot as plt\n",
    "%matplotlib inline"
   ]
  },
  {
   "cell_type": "markdown",
   "metadata": {},
   "source": [
    "Download the dataset from Github to Google Colab and unzip it."
   ]
  },
  {
   "cell_type": "code",
   "execution_count": null,
   "metadata": {},
   "outputs": [],
   "source": [
    "!wget https://github.com/fisher85/ml-cybersecurity/blob/master/python-web-attack-detection/datasets/Thursday-WorkingHours-Morning-WebAttacks.pcap_ISCX.csv.zip?raw=true -O dataset.zip\n",
    "!unzip -u dataset.zip"
   ]
  },
  {
   "cell_type": "markdown",
   "metadata": {
    "id": "i4vnx_OaGAl0"
   },
   "source": [
    "We use \"engine=python\" to avoid the \"UnicodeDecodeError: 'utf-8' codec can't decode byte 0x96 in position 11: invalid start byte\" encoding error."
   ]
  },
  {
   "cell_type": "code",
   "execution_count": 2,
   "metadata": {
    "id": "yIqeKHKYGCoz"
   },
   "outputs": [],
   "source": [
    "df = pd.read_csv('Thursday-WorkingHours-Morning-WebAttacks.pcap_ISCX.csv', engine='python')"
   ]
  },
  {
   "cell_type": "markdown",
   "metadata": {
    "id": "3U-gQIAmhamL"
   },
   "source": [
    "Thursday-WorkingHours-Morning-WebAttacks.pcap_ISCX.csv file contains 458968 records, 85 columns."
   ]
  },
  {
   "cell_type": "code",
   "execution_count": 3,
   "metadata": {
    "colab": {
     "base_uri": "https://localhost:8080/",
     "height": 34
    },
    "id": "QMkibc_W4hpQ",
    "outputId": "f8965510-6788-45e3-eda8-1d29ff1dd68a"
   },
   "outputs": [
    {
     "data": {
      "text/plain": [
       "(458968, 85)"
      ]
     },
     "execution_count": 3,
     "metadata": {},
     "output_type": "execute_result"
    }
   ],
   "source": [
    "df.shape"
   ]
  },
  {
   "cell_type": "markdown",
   "metadata": {
    "id": "E5kIR-daheeV"
   },
   "source": [
    "The columns \"Fwd Header Length\" and \"Fwd Header Length.1\" are identical, the second one is removed, 84 columns remain."
   ]
  },
  {
   "cell_type": "code",
   "execution_count": 4,
   "metadata": {
    "colab": {
     "base_uri": "https://localhost:8080/",
     "height": 34
    },
    "id": "83UFLCVlhjKF",
    "outputId": "b0c3baf0-9395-48f9-a829-953fb764f634"
   },
   "outputs": [
    {
     "data": {
      "text/plain": [
       "(458968, 84)"
      ]
     },
     "execution_count": 4,
     "metadata": {},
     "output_type": "execute_result"
    }
   ],
   "source": [
    "df.columns = df.columns.str.strip()\n",
    "df = df.drop(columns=['Fwd Header Length.1'])\n",
    "df.shape"
   ]
  },
  {
   "cell_type": "markdown",
   "metadata": {
    "id": "BIQQvtxZhiTZ"
   },
   "source": [
    "When assessing the distribution of labels, it turns out that out of 458968 records there are many blank records (\"BENIGN\" - benign background traffic)."
   ]
  },
  {
   "cell_type": "code",
   "execution_count": 5,
   "metadata": {
    "colab": {
     "base_uri": "https://localhost:8080/",
     "height": 51
    },
    "id": "HrGLjk5nhrGE",
    "outputId": "b5754c62-bc6c-43b3-8c67-032c07ce20e6"
   },
   "outputs": [
    {
     "data": {
      "text/plain": [
       "array(['BENIGN', 'Web Attack – Brute Force', 'Web Attack – XSS',\n",
       "       'Web Attack – Sql Injection', nan], dtype=object)"
      ]
     },
     "execution_count": 5,
     "metadata": {},
     "output_type": "execute_result"
    }
   ],
   "source": [
    "df['Label'].unique()"
   ]
  },
  {
   "cell_type": "code",
   "execution_count": 6,
   "metadata": {
    "colab": {
     "base_uri": "https://localhost:8080/",
     "height": 102
    },
    "id": "HnpQqQ8fhxwN",
    "outputId": "1875b6bf-6f59-466a-a633-8268a9a8b19d"
   },
   "outputs": [
    {
     "data": {
      "text/plain": [
       "BENIGN                        168186\n",
       "Web Attack – Brute Force        1507\n",
       "Web Attack – XSS                 652\n",
       "Web Attack – Sql Injection        21\n",
       "Name: Label, dtype: int64"
      ]
     },
     "execution_count": 6,
     "metadata": {},
     "output_type": "execute_result"
    }
   ],
   "source": [
    "df['Label'].value_counts()"
   ]
  },
  {
   "cell_type": "markdown",
   "metadata": {
    "id": "l7lpytF7h6D4"
   },
   "source": [
    "Delete blank records."
   ]
  },
  {
   "cell_type": "code",
   "execution_count": 7,
   "metadata": {
    "colab": {
     "base_uri": "https://localhost:8080/",
     "height": 34
    },
    "id": "7ltfHW8dh7Tw",
    "outputId": "d53015b1-03a4-4d7c-9440-ae0f3fcee7b7"
   },
   "outputs": [
    {
     "data": {
      "text/plain": [
       "(170366, 84)"
      ]
     },
     "execution_count": 7,
     "metadata": {},
     "output_type": "execute_result"
    }
   ],
   "source": [
    "df = df.drop(df[pd.isnull(df['Flow ID'])].index)\n",
    "df.shape"
   ]
  },
  {
   "cell_type": "markdown",
   "metadata": {
    "id": "ZN6DKttXiH7J"
   },
   "source": [
    "The \"Flow Bytes/s\" and \"Flow Packets/s\" columns have non-numerical values, replace them."
   ]
  },
  {
   "cell_type": "code",
   "execution_count": 8,
   "metadata": {
    "id": "mZ2ffToLi02x"
   },
   "outputs": [],
   "source": [
    "df.replace('Infinity', -1, inplace=True)\n",
    "df[[\"Flow Bytes/s\", \"Flow Packets/s\"]] = df[[\"Flow Bytes/s\", \"Flow Packets/s\"]].apply(pd.to_numeric)"
   ]
  },
  {
   "cell_type": "markdown",
   "metadata": {},
   "source": [
    "Replace the NaN values and infinity values with -1."
   ]
  },
  {
   "cell_type": "code",
   "execution_count": 9,
   "metadata": {},
   "outputs": [],
   "source": [
    "df.replace([np.inf, -np.inf, np.nan], -1, inplace=True)"
   ]
  },
  {
   "cell_type": "markdown",
   "metadata": {
    "id": "2JMv7gKfi4nI"
   },
   "source": [
    "Convert string characters to numbers, use LabelEncoder, not OneHotEncoder."
   ]
  },
  {
   "cell_type": "code",
   "execution_count": 10,
   "metadata": {
    "colab": {
     "base_uri": "https://localhost:8080/",
     "height": 34
    },
    "id": "XmYOMG0Ti8Wh",
    "outputId": "bf6ffbc1-8b29-482c-fd6e-0c6a46951be5"
   },
   "outputs": [
    {
     "data": {
      "text/plain": [
       "['Flow ID', 'Source IP', 'Destination IP', 'Timestamp']"
      ]
     },
     "execution_count": 10,
     "metadata": {},
     "output_type": "execute_result"
    }
   ],
   "source": [
    "string_features = list(df.select_dtypes(include=['object']).columns)\n",
    "string_features.remove('Label')\n",
    "string_features"
   ]
  },
  {
   "cell_type": "code",
   "execution_count": 11,
   "metadata": {
    "id": "ySZ2eW_2jCfQ"
   },
   "outputs": [],
   "source": [
    "le = preprocessing.LabelEncoder()\n",
    "df[string_features] = df[string_features].apply(lambda col: le.fit_transform(col))"
   ]
  },
  {
   "cell_type": "markdown",
   "metadata": {
    "id": "K94al8HAjJEN"
   },
   "source": [
    "### Undersampling against unbalance\n",
    "\n",
    "Dataset is unbalanced: total records = 170366, \"BENIGN\" records = 168186, records with attacks much less: 1507 + 652 + 21 = 2180."
   ]
  },
  {
   "cell_type": "code",
   "execution_count": 12,
   "metadata": {
    "colab": {
     "base_uri": "https://localhost:8080/",
     "height": 34
    },
    "id": "7K7iWbNMjWrZ",
    "outputId": "7ce9991a-9f78-4ee3-a190-ad8e6e376fc7"
   },
   "outputs": [
    {
     "data": {
      "text/plain": [
       "168186"
      ]
     },
     "execution_count": 12,
     "metadata": {},
     "output_type": "execute_result"
    }
   ],
   "source": [
    "benign_total = len(df[df['Label'] == \"BENIGN\"])\n",
    "benign_total"
   ]
  },
  {
   "cell_type": "code",
   "execution_count": 13,
   "metadata": {
    "colab": {
     "base_uri": "https://localhost:8080/",
     "height": 34
    },
    "id": "nVs_xEHFjY5q",
    "outputId": "f1c5e3e9-5dba-4061-d578-8089dc63c61f"
   },
   "outputs": [
    {
     "data": {
      "text/plain": [
       "2180"
      ]
     },
     "execution_count": 13,
     "metadata": {},
     "output_type": "execute_result"
    }
   ],
   "source": [
    "attack_total = len(df[df['Label'] != \"BENIGN\"])\n",
    "attack_total"
   ]
  },
  {
   "cell_type": "code",
   "execution_count": 14,
   "metadata": {
    "colab": {
     "base_uri": "https://localhost:8080/",
     "height": 102
    },
    "id": "PFvPOea2jhMt",
    "outputId": "c6ca7662-2455-48de-f3aa-41191655a252"
   },
   "outputs": [
    {
     "data": {
      "text/plain": [
       "BENIGN                        168186\n",
       "Web Attack – Brute Force        1507\n",
       "Web Attack – XSS                 652\n",
       "Web Attack – Sql Injection        21\n",
       "Name: Label, dtype: int64"
      ]
     },
     "execution_count": 14,
     "metadata": {},
     "output_type": "execute_result"
    }
   ],
   "source": [
    "df.to_csv(\"web_attacks_unbalanced.csv\", index=False)\n",
    "df['Label'].value_counts()"
   ]
  },
  {
   "cell_type": "markdown",
   "metadata": {
    "id": "6A9-rS7OjyFl"
   },
   "source": [
    "We use **undersampling** to correct class imbalances: we remove most of the \"BENIGN\" records.\n",
    "\n",
    "Form a balanced dataset web_attacks_balanced.csv in proportion: 30% attack (2180 records), 70% benign data (2180 / 30 * 70 ~ = 5087 records).\n",
    "\n",
    "Algorithm to form a balanced df_balanced dataset:\n",
    "\n",
    "* All the records with the attacks are copied to the new dataset.\n",
    "* There are two conditions for copying \"BENIGN\" records to the new dataset:\n",
    " \n",
    "     1. The next record is copyied with the benign_inc_probability.\n",
    "     2. The total number of \"BENIGN\" records must not exceed the limit of 5087 records."
   ]
  },
  {
   "cell_type": "markdown",
   "metadata": {
    "id": "aVZutNOZj_N9"
   },
   "source": [
    "Сalculate the probability of copying a \"BENIGN\" record. The enlargement multiplier is used to get exactly 70% benign data (5087 records)."
   ]
  },
  {
   "cell_type": "code",
   "execution_count": 15,
   "metadata": {
    "colab": {
     "base_uri": "https://localhost:8080/",
     "height": 34
    },
    "id": "XaW7sEjHkB3K",
    "outputId": "27e0c165-6226-48a5-cab6-9d94ad80566e"
   },
   "outputs": [
    {
     "name": "stdout",
     "output_type": "stream",
     "text": [
      "5086.666666666667 0.03326872232726466\n"
     ]
    }
   ],
   "source": [
    "enlargement = 1.1\n",
    "benign_included_max = attack_total / 30 * 70\n",
    "benign_inc_probability = (benign_included_max / benign_total) * enlargement\n",
    "print(benign_included_max, benign_inc_probability)"
   ]
  },
  {
   "cell_type": "markdown",
   "metadata": {
    "id": "G3ZXh6fTkFK_"
   },
   "source": [
    "Copy records from df to df_balanced, save dataset **web_attacks_balanced.csv**."
   ]
  },
  {
   "cell_type": "code",
   "execution_count": 16,
   "metadata": {
    "id": "0MdiMPmdkICk"
   },
   "outputs": [],
   "source": [
    "import random\n",
    "indexes = []\n",
    "benign_included_count = 0\n",
    "for index, row in df.iterrows():\n",
    "    if (row['Label'] != \"BENIGN\"):\n",
    "        indexes.append(index)\n",
    "    else:\n",
    "        # Copying with benign_inc_probability\n",
    "        if random.random() > benign_inc_probability: continue\n",
    "        # Have we achieved 70% (5087 records)?\n",
    "        if benign_included_count > benign_included_max: continue\n",
    "        benign_included_count += 1\n",
    "        indexes.append(index)\n",
    "df_balanced = df.loc[indexes]"
   ]
  },
  {
   "cell_type": "code",
   "execution_count": 17,
   "metadata": {
    "colab": {
     "base_uri": "https://localhost:8080/",
     "height": 102
    },
    "id": "cqypBDIdkKN4",
    "outputId": "81585c22-c45e-4c60-b35a-c6272a1c263e"
   },
   "outputs": [
    {
     "data": {
      "text/plain": [
       "BENIGN                        5087\n",
       "Web Attack – Brute Force      1507\n",
       "Web Attack – XSS               652\n",
       "Web Attack – Sql Injection      21\n",
       "Name: Label, dtype: int64"
      ]
     },
     "execution_count": 17,
     "metadata": {},
     "output_type": "execute_result"
    }
   ],
   "source": [
    "df_balanced['Label'].value_counts()"
   ]
  },
  {
   "cell_type": "markdown",
   "metadata": {
    "id": "hDPCkmutkNYD"
   },
   "source": [
    "If necessary, we can keep a single class of attack for experiments."
   ]
  },
  {
   "cell_type": "code",
   "execution_count": 18,
   "metadata": {
    "id": "1_q52wjdkPZ8"
   },
   "outputs": [],
   "source": [
    "# df_balanced = df_balanced[df_balanced['Label'] != \"Web Attack – Brute Force\"]\n",
    "# df_balanced = df_balanced[df_balanced['Label'] != \"Web Attack – Sql Injection\"]\n",
    "# df_balanced['Label'].value_counts()"
   ]
  },
  {
   "cell_type": "code",
   "execution_count": 19,
   "metadata": {
    "id": "qiYFzlGkkSXe"
   },
   "outputs": [],
   "source": [
    "df_balanced.to_csv(\"web_attacks_balanced.csv\", index=False)"
   ]
  },
  {
   "cell_type": "markdown",
   "metadata": {
    "id": "-IEyQxBDt5sG"
   },
   "source": [
    "### Preparing data for training"
   ]
  },
  {
   "cell_type": "code",
   "execution_count": 20,
   "metadata": {},
   "outputs": [],
   "source": [
    "df = pd.read_csv('web_attacks_balanced.csv')"
   ]
  },
  {
   "cell_type": "markdown",
   "metadata": {},
   "source": [
    "The Label column is encoded as follows: \"BENIGN\" = 0, attack = 1."
   ]
  },
  {
   "cell_type": "code",
   "execution_count": 21,
   "metadata": {},
   "outputs": [],
   "source": [
    "df['Label'] = df['Label'].apply(lambda x: 0 if x == 'BENIGN' else 1)"
   ]
  },
  {
   "cell_type": "markdown",
   "metadata": {},
   "source": [
    "If necessary, we will work with our own dataset."
   ]
  },
  {
   "cell_type": "code",
   "execution_count": 22,
   "metadata": {},
   "outputs": [],
   "source": [
    "#!wget https://raw.githubusercontent.com/infosecdemos/ml-2020/master/ml-ids/datasets/mix_labelled.zip -O mix_labelled.zip\n",
    "#!unzip -u mix_labelled.zip"
   ]
  },
  {
   "cell_type": "code",
   "execution_count": 23,
   "metadata": {},
   "outputs": [],
   "source": [
    "#df = pd.read_csv('mix_labelled.csv')\n",
    "#excluded = ['Flow Key', 'Flow Bytes/s', 'Flow MB/s', 'Fwd IAT Min', \n",
    "#            'Flow IAT Min', 'Packet Length Mean', 'Average Fwd Segment Size', 'Subflow Fwd Bytes',\n",
    "#            'Fwd Packets/s', 'Fwd IAT Total', 'Fwd IAT Max', 'Fwd IAT Mean',\n",
    "#            'Average Bwd Segment Size', 'Bwd Packet Length Mean', 'Packet Length List', 'Total Fwd Packets',\n",
    "#            'Packet Length Std', 'Packet Length Variance', 'Total Backword Packets', 'Fwd Packet Length Std',\n",
    "#            'Total Length of Bwd Packets', 'Bwd Header Length']\n",
    "#df = df.drop(columns=excluded, errors='ignore')"
   ]
  },
  {
   "cell_type": "markdown",
   "metadata": {
    "id": "1k2G5UAEt9cw"
   },
   "source": [
    "7 features (Flow ID, Source IP, Source Port, Destination IP, Destination Port, Protocol, Timestamp) are excluded from the dataset. The hypothesis is that the \"shape\" of the data being transmitted is more important than these attributes. In addition, ports and addresses can be substituted by an attacker, so it is better that the ML algorithm does not take these features into account in training [Kostas2018]."
   ]
  },
  {
   "cell_type": "code",
   "execution_count": 24,
   "metadata": {
    "id": "8yza95R2t_1N"
   },
   "outputs": [],
   "source": [
    "excluded = ['Flow ID', 'Source IP', 'Source Port', 'Destination IP', 'Destination Port', 'Protocol', 'Timestamp']\n",
    "df = df.drop(columns=excluded, errors='ignore')"
   ]
  },
  {
   "cell_type": "markdown",
   "metadata": {
    "id": "eCxptOz2uDIV"
   },
   "source": [
    "Below at the stage of importance estimation the \"Init_Win_bytes_backward\" feature has the maximum value. After viewing the source dataset, it seems that an inaccuracy was made in forming the dataset. \n",
    "\n",
    "It turns out that it is possible to make a fairly accurate classification by one feature.\n",
    "\n",
    "Description of features: http://www.netflowmeter.ca/netflowmeter.html\n",
    "\n",
    "     Init_Win_bytes_backward - The total number of bytes sent in initial window in the backward direction\n",
    "     Init_Win_bytes_forward - The total number of bytes sent in initial window in the forward direction"
   ]
  },
  {
   "cell_type": "code",
   "execution_count": 25,
   "metadata": {
    "colab": {
     "base_uri": "https://localhost:8080/",
     "height": 295
    },
    "id": "lYhtGKqJuUQA",
    "outputId": "aade2290-801b-44a9-d1b8-880b3f40d121"
   },
   "outputs": [
    {
     "data": {
      "image/png": "[encoded data removed]",
      "text/plain": [
       "<Figure size 432x288 with 1 Axes>"
      ]
     },
     "metadata": {
      "needs_background": "light"
     },
     "output_type": "display_data"
    }
   ],
   "source": [
    "if 'Init_Win_bytes_backward' in df.columns:\n",
    "    df['Init_Win_bytes_backward'].hist(figsize=(6,4), bins=10);\n",
    "    plt.title(\"Init_Win_bytes_backward\")\n",
    "    plt.xlabel(\"Value bins\")\n",
    "    plt.ylabel(\"Density\")\n",
    "    plt.savefig('Init_Win_bytes_backward.png', dpi=300)"
   ]
  },
  {
   "cell_type": "code",
   "execution_count": 26,
   "metadata": {
    "colab": {
     "base_uri": "https://localhost:8080/",
     "height": 295
    },
    "id": "XPbBcbj_uYMV",
    "outputId": "88d26808-c28b-43d1-91d5-9bc2dc6a9d04"
   },
   "outputs": [
    {
     "data": {
      "image/png": "[encoded data removed]",
      "text/plain": [
       "<Figure size 432x288 with 1 Axes>"
      ]
     },
     "metadata": {
      "needs_background": "light"
     },
     "output_type": "display_data"
    }
   ],
   "source": [
    "if 'Init_Win_bytes_forward' in df.columns:\n",
    "    df['Init_Win_bytes_forward'].hist(figsize=(6,4), bins=10);\n",
    "    plt.title(\"Init_Win_bytes_forward\")\n",
    "    plt.xlabel(\"Value bins\")\n",
    "    plt.ylabel(\"Density\")\n",
    "    plt.savefig('Init_Win_bytes_forward.png', dpi=300)"
   ]
  },
  {
   "cell_type": "code",
   "execution_count": 27,
   "metadata": {
    "id": "Uw6liMMducM5"
   },
   "outputs": [],
   "source": [
    "excluded2 = ['Init_Win_bytes_backward', 'Init_Win_bytes_forward']\n",
    "df = df.drop(columns=excluded2, errors='ignore')"
   ]
  },
  {
   "cell_type": "code",
   "execution_count": 28,
   "metadata": {
    "colab": {
     "base_uri": "https://localhost:8080/",
     "height": 34
    },
    "id": "a-FDOBmOufo6",
    "outputId": "8ba70aa2-818b-48d5-a74b-9a5ddf0b76f7"
   },
   "outputs": [
    {
     "name": "stdout",
     "output_type": "stream",
     "text": [
      "(7267, 74) (7267,)\n"
     ]
    }
   ],
   "source": [
    "y = df['Label'].values\n",
    "X = df.drop(columns=['Label'])\n",
    "print(X.shape, y.shape)"
   ]
  },
  {
   "cell_type": "markdown",
   "metadata": {
    "id": "3P69z9kfupES"
   },
   "source": [
    "## Feature importance"
   ]
  },
  {
   "cell_type": "code",
   "execution_count": 29,
   "metadata": {
    "colab": {
     "base_uri": "https://localhost:8080/",
     "height": 34
    },
    "id": "4BbvfnjTuzeX",
    "outputId": "55719ff0-84a0-4568-ebda-df2f479bc71c"
   },
   "outputs": [
    {
     "data": {
      "text/plain": [
       "{0: 3556, 1: 1530}"
      ]
     },
     "execution_count": 29,
     "metadata": {},
     "output_type": "execute_result"
    }
   ],
   "source": [
    "from sklearn.model_selection import train_test_split\n",
    "X_train, X_test, y_train, y_test = train_test_split(X, y, test_size=0.3, random_state=42)\n",
    "\n",
    "unique, counts = np.unique(y_train, return_counts=True)\n",
    "dict(zip(unique, counts))"
   ]
  },
  {
   "cell_type": "markdown",
   "metadata": {
    "id": "wE4AwrX1u6Hj"
   },
   "source": [
    "### Visualization of the decision tree, importance evaluation using a single tree (DecisionTreeClassifier)\n",
    " \n",
    "In the beginning we use one tree - for the convenience of visualization of the classifier. High cross-validation scores even with 5 leaves look suspiciously good, we should look at the data carefully. Parameters for change - test_size in the cell above (train_test_split), max_leaf_nodes in the cell below.\n",
    " \n",
    "By changing the **random_state** parameter, we will get different trees and different features with the highest importance. But the forest will already average individual trees below."
   ]
  },
  {
   "cell_type": "code",
   "execution_count": 30,
   "metadata": {
    "colab": {
     "base_uri": "https://localhost:8080/",
     "height": 51
    },
    "id": "JtVUvneuyAeI",
    "outputId": "582feeb2-a10f-4615-d3a7-74b734cddaf2"
   },
   "outputs": [
    {
     "data": {
      "text/plain": [
       "array([0.94891945, 0.95284872, 0.956778  , 0.96070727, 0.93516699,\n",
       "       0.96070727, 0.96653543, 0.96062992, 0.96062992, 0.96456693])"
      ]
     },
     "execution_count": 30,
     "metadata": {},
     "output_type": "execute_result"
    }
   ],
   "source": [
    "from sklearn.model_selection import cross_val_score\n",
    "from sklearn.tree import DecisionTreeClassifier\n",
    "decision_tree = DecisionTreeClassifier(max_leaf_nodes=5, random_state=0)\n",
    "decision_tree = decision_tree.fit(X_train, y_train)\n",
    "cross_val_score(decision_tree, X_train, y_train, cv=10)"
   ]
  },
  {
   "cell_type": "code",
   "execution_count": 31,
   "metadata": {
    "colab": {
     "base_uri": "https://localhost:8080/",
     "height": 255
    },
    "id": "cITpkfwyCqqU",
    "outputId": "d8120dd9-fc45-4746-b25d-cc488863c6e8"
   },
   "outputs": [
    {
     "name": "stdout",
     "output_type": "stream",
     "text": [
      "|--- Packet Length Mean <= 0.86\n",
      "|   |--- Fwd IAT Std <= 2358690.50\n",
      "|   |   |--- class: 0\n",
      "|   |--- Fwd IAT Std >  2358690.50\n",
      "|   |   |--- Fwd IAT Min <= 11045.50\n",
      "|   |   |   |--- class: 1\n",
      "|   |   |--- Fwd IAT Min >  11045.50\n",
      "|   |   |   |--- class: 0\n",
      "|--- Packet Length Mean >  0.86\n",
      "|   |--- Subflow Fwd Bytes <= 36189.50\n",
      "|   |   |--- class: 0\n",
      "|   |--- Subflow Fwd Bytes >  36189.50\n",
      "|   |   |--- class: 1\n",
      "\n"
     ]
    }
   ],
   "source": [
    "from sklearn.tree import export_text\n",
    "r = export_text(decision_tree, feature_names=X_train.columns.to_list())\n",
    "print(r)"
   ]
  },
  {
   "cell_type": "code",
   "execution_count": 32,
   "metadata": {
    "colab": {
     "base_uri": "https://localhost:8080/",
     "height": 518
    },
    "id": "6xpZlcv_-J_W",
    "outputId": "7b256ccd-64c0-4ad4-a34b-14e7275cfeab"
   },
   "outputs": [
    {
     "data": {
      "image/svg+xml": [
       "<?xml version=\"1.0\" encoding=\"UTF-8\" standalone=\"no\"?>\r\n",
       "<!DOCTYPE svg PUBLIC \"-//W3C//DTD SVG 1.1//EN\"\r\n",
       " \"http://www.w3.org/Graphics/SVG/1.1/DTD/svg11.dtd\">\r\n",
       "<!-- Generated by graphviz version 2.38.0 (20140413.2041)\r\n",
       " -->\r\n",
       "<!-- Title: Tree Pages: 1 -->\r\n",
       "<svg width=\"582pt\" height=\"373pt\"\r\n",
       " viewBox=\"0.00 0.00 582.00 373.00\" xmlns=\"http://www.w3.org/2000/svg\" xmlns:xlink=\"http://www.w3.org/1999/xlink\">\r\n",
       "<g id=\"graph0\" class=\"graph\" transform=\"scale(1 1) rotate(0) translate(4 369)\">\r\n",
       "<title>Tree</title>\r\n",
       "<polygon fill=\"white\" stroke=\"none\" points=\"-4,4 -4,-369 578,-369 578,4 -4,4\"/>\r\n",
       "<!-- 0 -->\r\n",
       "<g id=\"node1\" class=\"node\"><title>0</title>\r\n",
       "<polygon fill=\"none\" stroke=\"black\" points=\"400.5,-365 215.5,-365 215.5,-297 400.5,-297 400.5,-365\"/>\r\n",
       "<text text-anchor=\"middle\" x=\"308\" y=\"-349.8\" font-family=\"Times New Roman,serif\" font-size=\"14.00\">Packet Length Mean &lt;= 0.857</text>\r\n",
       "<text text-anchor=\"middle\" x=\"308\" y=\"-334.8\" font-family=\"Times New Roman,serif\" font-size=\"14.00\">gini = 0.421</text>\r\n",
       "<text text-anchor=\"middle\" x=\"308\" y=\"-319.8\" font-family=\"Times New Roman,serif\" font-size=\"14.00\">samples = 5086</text>\r\n",
       "<text text-anchor=\"middle\" x=\"308\" y=\"-304.8\" font-family=\"Times New Roman,serif\" font-size=\"14.00\">value = [3556, 1530]</text>\r\n",
       "</g>\r\n",
       "<!-- 1 -->\r\n",
       "<g id=\"node2\" class=\"node\"><title>1</title>\r\n",
       "<polygon fill=\"none\" stroke=\"black\" points=\"293,-261 119,-261 119,-193 293,-193 293,-261\"/>\r\n",
       "<text text-anchor=\"middle\" x=\"206\" y=\"-245.8\" font-family=\"Times New Roman,serif\" font-size=\"14.00\">Fwd IAT Std &lt;= 2358690.5</text>\r\n",
       "<text text-anchor=\"middle\" x=\"206\" y=\"-230.8\" font-family=\"Times New Roman,serif\" font-size=\"14.00\">gini = 0.324</text>\r\n",
       "<text text-anchor=\"middle\" x=\"206\" y=\"-215.8\" font-family=\"Times New Roman,serif\" font-size=\"14.00\">samples = 1753</text>\r\n",
       "<text text-anchor=\"middle\" x=\"206\" y=\"-200.8\" font-family=\"Times New Roman,serif\" font-size=\"14.00\">value = [357, 1396]</text>\r\n",
       "</g>\r\n",
       "<!-- 0&#45;&gt;1 -->\r\n",
       "<g id=\"edge1\" class=\"edge\"><title>0&#45;&gt;1</title>\r\n",
       "<path fill=\"none\" stroke=\"black\" d=\"M274.884,-296.884C265.798,-287.798 255.845,-277.845 246.4,-268.4\"/>\r\n",
       "<polygon fill=\"black\" stroke=\"black\" points=\"248.845,-265.896 239.299,-261.299 243.896,-270.845 248.845,-265.896\"/>\r\n",
       "<text text-anchor=\"middle\" x=\"239.299\" y=\"-282.599\" font-family=\"Times New Roman,serif\" font-size=\"14.00\">True</text>\r\n",
       "</g>\r\n",
       "<!-- 2 -->\r\n",
       "<g id=\"node7\" class=\"node\"><title>2</title>\r\n",
       "<polygon fill=\"none\" stroke=\"black\" points=\"508.5,-261 311.5,-261 311.5,-193 508.5,-193 508.5,-261\"/>\r\n",
       "<text text-anchor=\"middle\" x=\"410\" y=\"-245.8\" font-family=\"Times New Roman,serif\" font-size=\"14.00\">Subflow Fwd Bytes &lt;= 36189.5</text>\r\n",
       "<text text-anchor=\"middle\" x=\"410\" y=\"-230.8\" font-family=\"Times New Roman,serif\" font-size=\"14.00\">gini = 0.077</text>\r\n",
       "<text text-anchor=\"middle\" x=\"410\" y=\"-215.8\" font-family=\"Times New Roman,serif\" font-size=\"14.00\">samples = 3333</text>\r\n",
       "<text text-anchor=\"middle\" x=\"410\" y=\"-200.8\" font-family=\"Times New Roman,serif\" font-size=\"14.00\">value = [3199, 134]</text>\r\n",
       "</g>\r\n",
       "<!-- 0&#45;&gt;2 -->\r\n",
       "<g id=\"edge6\" class=\"edge\"><title>0&#45;&gt;2</title>\r\n",
       "<path fill=\"none\" stroke=\"black\" d=\"M341.116,-296.884C350.202,-287.798 360.155,-277.845 369.6,-268.4\"/>\r\n",
       "<polygon fill=\"black\" stroke=\"black\" points=\"372.104,-270.845 376.701,-261.299 367.155,-265.896 372.104,-270.845\"/>\r\n",
       "<text text-anchor=\"middle\" x=\"376.701\" y=\"-282.599\" font-family=\"Times New Roman,serif\" font-size=\"14.00\">False</text>\r\n",
       "</g>\r\n",
       "<!-- 3 -->\r\n",
       "<g id=\"node3\" class=\"node\"><title>3</title>\r\n",
       "<polygon fill=\"none\" stroke=\"black\" points=\"118,-149.5 0,-149.5 0,-96.5 118,-96.5 118,-149.5\"/>\r\n",
       "<text text-anchor=\"middle\" x=\"59\" y=\"-134.3\" font-family=\"Times New Roman,serif\" font-size=\"14.00\">gini = 0.406</text>\r\n",
       "<text text-anchor=\"middle\" x=\"59\" y=\"-119.3\" font-family=\"Times New Roman,serif\" font-size=\"14.00\">samples = 473</text>\r\n",
       "<text text-anchor=\"middle\" x=\"59\" y=\"-104.3\" font-family=\"Times New Roman,serif\" font-size=\"14.00\">value = [339, 134]</text>\r\n",
       "</g>\r\n",
       "<!-- 1&#45;&gt;3 -->\r\n",
       "<g id=\"edge2\" class=\"edge\"><title>1&#45;&gt;3</title>\r\n",
       "<path fill=\"none\" stroke=\"black\" d=\"M158.273,-192.884C140.838,-180.786 121.188,-167.151 103.999,-155.224\"/>\r\n",
       "<polygon fill=\"black\" stroke=\"black\" points=\"105.99,-152.345 95.7787,-149.52 101.999,-158.096 105.99,-152.345\"/>\r\n",
       "</g>\r\n",
       "<!-- 4 -->\r\n",
       "<g id=\"node4\" class=\"node\"><title>4</title>\r\n",
       "<polygon fill=\"none\" stroke=\"black\" points=\"299.5,-157 136.5,-157 136.5,-89 299.5,-89 299.5,-157\"/>\r\n",
       "<text text-anchor=\"middle\" x=\"218\" y=\"-141.8\" font-family=\"Times New Roman,serif\" font-size=\"14.00\">Fwd IAT Min &lt;= 11045.5</text>\r\n",
       "<text text-anchor=\"middle\" x=\"218\" y=\"-126.8\" font-family=\"Times New Roman,serif\" font-size=\"14.00\">gini = 0.028</text>\r\n",
       "<text text-anchor=\"middle\" x=\"218\" y=\"-111.8\" font-family=\"Times New Roman,serif\" font-size=\"14.00\">samples = 1280</text>\r\n",
       "<text text-anchor=\"middle\" x=\"218\" y=\"-96.8\" font-family=\"Times New Roman,serif\" font-size=\"14.00\">value = [18, 1262]</text>\r\n",
       "</g>\r\n",
       "<!-- 1&#45;&gt;4 -->\r\n",
       "<g id=\"edge3\" class=\"edge\"><title>1&#45;&gt;4</title>\r\n",
       "<path fill=\"none\" stroke=\"black\" d=\"M209.896,-192.884C210.85,-184.778 211.884,-175.982 212.886,-167.472\"/>\r\n",
       "<polygon fill=\"black\" stroke=\"black\" points=\"216.39,-167.64 214.082,-157.299 209.438,-166.822 216.39,-167.64\"/>\r\n",
       "</g>\r\n",
       "<!-- 7 -->\r\n",
       "<g id=\"node5\" class=\"node\"><title>7</title>\r\n",
       "<polygon fill=\"none\" stroke=\"black\" points=\"211.5,-53 100.5,-53 100.5,-0 211.5,-0 211.5,-53\"/>\r\n",
       "<text text-anchor=\"middle\" x=\"156\" y=\"-37.8\" font-family=\"Times New Roman,serif\" font-size=\"14.00\">gini = 0.0</text>\r\n",
       "<text text-anchor=\"middle\" x=\"156\" y=\"-22.8\" font-family=\"Times New Roman,serif\" font-size=\"14.00\">samples = 1262</text>\r\n",
       "<text text-anchor=\"middle\" x=\"156\" y=\"-7.8\" font-family=\"Times New Roman,serif\" font-size=\"14.00\">value = [0, 1262]</text>\r\n",
       "</g>\r\n",
       "<!-- 4&#45;&gt;7 -->\r\n",
       "<g id=\"edge4\" class=\"edge\"><title>4&#45;&gt;7</title>\r\n",
       "<path fill=\"none\" stroke=\"black\" d=\"M196.315,-88.9485C190.554,-80.1664 184.319,-70.6629 178.514,-61.815\"/>\r\n",
       "<polygon fill=\"black\" stroke=\"black\" points=\"181.297,-59.6779 172.885,-53.2367 175.445,-63.5178 181.297,-59.6779\"/>\r\n",
       "</g>\r\n",
       "<!-- 8 -->\r\n",
       "<g id=\"node6\" class=\"node\"><title>8</title>\r\n",
       "<polygon fill=\"none\" stroke=\"black\" points=\"328,-53 230,-53 230,-0 328,-0 328,-53\"/>\r\n",
       "<text text-anchor=\"middle\" x=\"279\" y=\"-37.8\" font-family=\"Times New Roman,serif\" font-size=\"14.00\">gini = 0.0</text>\r\n",
       "<text text-anchor=\"middle\" x=\"279\" y=\"-22.8\" font-family=\"Times New Roman,serif\" font-size=\"14.00\">samples = 18</text>\r\n",
       "<text text-anchor=\"middle\" x=\"279\" y=\"-7.8\" font-family=\"Times New Roman,serif\" font-size=\"14.00\">value = [18, 0]</text>\r\n",
       "</g>\r\n",
       "<!-- 4&#45;&gt;8 -->\r\n",
       "<g id=\"edge5\" class=\"edge\"><title>4&#45;&gt;8</title>\r\n",
       "<path fill=\"none\" stroke=\"black\" d=\"M239.335,-88.9485C245.004,-80.1664 251.138,-70.6629 256.85,-61.815\"/>\r\n",
       "<polygon fill=\"black\" stroke=\"black\" points=\"259.904,-63.5365 262.387,-53.2367 254.023,-59.7402 259.904,-63.5365\"/>\r\n",
       "</g>\r\n",
       "<!-- 5 -->\r\n",
       "<g id=\"node8\" class=\"node\"><title>5</title>\r\n",
       "<polygon fill=\"none\" stroke=\"black\" points=\"458,-149.5 340,-149.5 340,-96.5 458,-96.5 458,-149.5\"/>\r\n",
       "<text text-anchor=\"middle\" x=\"399\" y=\"-134.3\" font-family=\"Times New Roman,serif\" font-size=\"14.00\">gini = 0.043</text>\r\n",
       "<text text-anchor=\"middle\" x=\"399\" y=\"-119.3\" font-family=\"Times New Roman,serif\" font-size=\"14.00\">samples = 3265</text>\r\n",
       "<text text-anchor=\"middle\" x=\"399\" y=\"-104.3\" font-family=\"Times New Roman,serif\" font-size=\"14.00\">value = [3194, 71]</text>\r\n",
       "</g>\r\n",
       "<!-- 2&#45;&gt;5 -->\r\n",
       "<g id=\"edge7\" class=\"edge\"><title>2&#45;&gt;5</title>\r\n",
       "<path fill=\"none\" stroke=\"black\" d=\"M406.429,-192.884C405.278,-182.216 403.999,-170.352 402.83,-159.519\"/>\r\n",
       "<polygon fill=\"black\" stroke=\"black\" points=\"406.304,-159.087 401.752,-149.52 399.345,-159.838 406.304,-159.087\"/>\r\n",
       "</g>\r\n",
       "<!-- 6 -->\r\n",
       "<g id=\"node9\" class=\"node\"><title>6</title>\r\n",
       "<polygon fill=\"none\" stroke=\"black\" points=\"574,-149.5 476,-149.5 476,-96.5 574,-96.5 574,-149.5\"/>\r\n",
       "<text text-anchor=\"middle\" x=\"525\" y=\"-134.3\" font-family=\"Times New Roman,serif\" font-size=\"14.00\">gini = 0.136</text>\r\n",
       "<text text-anchor=\"middle\" x=\"525\" y=\"-119.3\" font-family=\"Times New Roman,serif\" font-size=\"14.00\">samples = 68</text>\r\n",
       "<text text-anchor=\"middle\" x=\"525\" y=\"-104.3\" font-family=\"Times New Roman,serif\" font-size=\"14.00\">value = [5, 63]</text>\r\n",
       "</g>\r\n",
       "<!-- 2&#45;&gt;6 -->\r\n",
       "<g id=\"edge8\" class=\"edge\"><title>2&#45;&gt;6</title>\r\n",
       "<path fill=\"none\" stroke=\"black\" d=\"M447.337,-192.884C460.605,-181.116 475.512,-167.894 488.692,-156.203\"/>\r\n",
       "<polygon fill=\"black\" stroke=\"black\" points=\"491.069,-158.774 496.228,-149.52 486.424,-153.537 491.069,-158.774\"/>\r\n",
       "</g>\r\n",
       "</g>\r\n",
       "</svg>\r\n"
      ],
      "text/plain": [
       "<graphviz.files.Source at 0xc45c400>"
      ]
     },
     "execution_count": 32,
     "metadata": {},
     "output_type": "execute_result"
    }
   ],
   "source": [
    "from graphviz import Source\n",
    "from sklearn import tree\n",
    "Source(tree.export_graphviz(decision_tree, out_file=None, feature_names=X.columns))"
   ]
  },
  {
   "cell_type": "markdown",
   "metadata": {
    "id": "b99AtZuj-NR8"
   },
   "source": [
    "Analyze the confusion matrix. Which classes are confidently classified by the model?"
   ]
  },
  {
   "cell_type": "code",
   "execution_count": 33,
   "metadata": {
    "colab": {
     "base_uri": "https://localhost:8080/",
     "height": 34
    },
    "id": "-7IrLSAx-PuK",
    "outputId": "e54c7989-2a1b-4054-e384-c42dd3c74d3f"
   },
   "outputs": [
    {
     "data": {
      "text/plain": [
       "{0: 1531, 1: 650}"
      ]
     },
     "execution_count": 33,
     "metadata": {},
     "output_type": "execute_result"
    }
   ],
   "source": [
    "unique, counts = np.unique(y_test, return_counts=True)\n",
    "dict(zip(unique, counts))"
   ]
  },
  {
   "cell_type": "code",
   "execution_count": 34,
   "metadata": {
    "colab": {
     "base_uri": "https://localhost:8080/",
     "height": 51
    },
    "id": "a9iK4zQt-SlP",
    "outputId": "256f6c4d-1123-4a97-dae1-b5a34ca0c29f"
   },
   "outputs": [
    {
     "data": {
      "text/plain": [
       "array([[1529,    2],\n",
       "       [  75,  575]], dtype=int64)"
      ]
     },
     "execution_count": 34,
     "metadata": {},
     "output_type": "execute_result"
    }
   ],
   "source": [
    "from sklearn.metrics import confusion_matrix\n",
    "y_pred = decision_tree.predict(X_test)\n",
    "confusion_matrix(y_test, y_pred)"
   ]
  },
  {
   "cell_type": "markdown",
   "metadata": {
    "id": "suPDWnoYaEPD"
   },
   "source": [
    "### Importance evaluation using SelectFromModel (still one decision tree)\n",
    "\n",
    "Source: https://github.com/oreilly-mlsec/book-resources/blob/master/chapter2/select-from-model-nslkdd.ipynb"
   ]
  },
  {
   "cell_type": "code",
   "execution_count": 35,
   "metadata": {
    "colab": {
     "base_uri": "https://localhost:8080/",
     "height": 272
    },
    "id": "hm7PM7f_aRei",
    "outputId": "c6023813-4233-4b05-d889-98a617b21b55"
   },
   "outputs": [
    {
     "data": {
      "text/plain": [
       "array([0.        , 0.        , 0.        , 0.        , 0.        ,\n",
       "       0.        , 0.        , 0.        , 0.        , 0.        ,\n",
       "       0.        , 0.        , 0.        , 0.        , 0.        ,\n",
       "       0.        , 0.        , 0.        , 0.        , 0.        ,\n",
       "       0.        , 0.18953957, 0.        , 0.0197273 , 0.        ,\n",
       "       0.        , 0.        , 0.        , 0.        , 0.        ,\n",
       "       0.        , 0.        , 0.        , 0.        , 0.        ,\n",
       "       0.        , 0.        , 0.        , 0.        , 0.73012437,\n",
       "       0.        , 0.        , 0.        , 0.        , 0.        ,\n",
       "       0.        , 0.        , 0.        , 0.        , 0.        ,\n",
       "       0.        , 0.        , 0.        , 0.        , 0.        ,\n",
       "       0.        , 0.        , 0.        , 0.        , 0.        ,\n",
       "       0.        , 0.06060877, 0.        , 0.        , 0.        ,\n",
       "       0.        , 0.        , 0.        , 0.        , 0.        ,\n",
       "       0.        , 0.        , 0.        , 0.        ])"
      ]
     },
     "execution_count": 35,
     "metadata": {},
     "output_type": "execute_result"
    }
   ],
   "source": [
    "from sklearn.feature_selection import SelectFromModel\n",
    "sfm = SelectFromModel(estimator=decision_tree).fit(X_train, y_train)\n",
    "sfm.estimator_.feature_importances_"
   ]
  },
  {
   "cell_type": "code",
   "execution_count": 36,
   "metadata": {
    "colab": {
     "base_uri": "https://localhost:8080/",
     "height": 34
    },
    "id": "Y0Sx8yJ_aW33",
    "outputId": "3a4f5abf-92b5-429c-e3c5-a28dbe0be19e"
   },
   "outputs": [
    {
     "data": {
      "text/plain": [
       "0.013513513513513514"
      ]
     },
     "execution_count": 36,
     "metadata": {},
     "output_type": "execute_result"
    }
   ],
   "source": [
    "sfm.threshold_"
   ]
  },
  {
   "cell_type": "code",
   "execution_count": 37,
   "metadata": {
    "colab": {
     "base_uri": "https://localhost:8080/",
     "height": 34
    },
    "id": "4iNlo5jIaaaL",
    "outputId": "d3683bfc-289b-414f-acec-eb6a60c1b09e"
   },
   "outputs": [
    {
     "name": "stdout",
     "output_type": "stream",
     "text": [
      "Original num features: 74, selected num features: 4\n"
     ]
    }
   ],
   "source": [
    "X_train_new = sfm.transform(X_train)\n",
    "print(\"Original num features: {}, selected num features: {}\"\n",
    "      .format(X_train.shape[1], X_train_new.shape[1]))"
   ]
  },
  {
   "cell_type": "code",
   "execution_count": 38,
   "metadata": {
    "colab": {
     "base_uri": "https://localhost:8080/",
     "height": 187
    },
    "id": "aBQxtLAwaegL",
    "outputId": "2c75fc3c-35e2-4532-fe8f-69fe909869df"
   },
   "outputs": [
    {
     "name": "stdout",
     "output_type": "stream",
     "text": [
      "0.\tPacket Length Mean - 0.7301243666452162\n",
      "1.\tFwd IAT Std - 0.18953956737517003\n",
      "2.\tSubflow Fwd Bytes - 0.060608769122583714\n",
      "3.\tFwd IAT Min - 0.019727296857030143\n",
      "4.\tIdle Min - 0.0\n",
      "5.\tBwd IAT Std - 0.0\n",
      "6.\tFwd IAT Mean - 0.0\n",
      "7.\tFwd IAT Max - 0.0\n",
      "8.\tBwd IAT Total - 0.0\n",
      "9.\tBwd IAT Mean - 0.0\n"
     ]
    }
   ],
   "source": [
    "indices = np.argsort(decision_tree.feature_importances_)[::-1]\n",
    "for idx, i in enumerate(indices[:10]):\n",
    "    print(\"{}.\\t{} - {}\".format(idx, X_train.columns[i], decision_tree.feature_importances_[i]))"
   ]
  },
  {
   "cell_type": "markdown",
   "metadata": {
    "id": "duGKUsAzal52"
   },
   "source": [
    "### Evaluation of importance using RandomForestClassifier.feature_importances_ (move from one tree to a random forest, classification quality increases)"
   ]
  },
  {
   "cell_type": "code",
   "execution_count": 39,
   "metadata": {
    "colab": {
     "base_uri": "https://localhost:8080/",
     "height": 68
    },
    "id": "xo4E_wFeaqNd",
    "outputId": "1f00d02b-5dc1-47eb-8c5f-47a76b077109"
   },
   "outputs": [
    {
     "name": "stdout",
     "output_type": "stream",
     "text": [
      "R^2 Training Score: 0.99 \n",
      "R^2 Validation Score: 0.99 \n",
      "Out-of-bag Score: 0.98\n"
     ]
    }
   ],
   "source": [
    "from sklearn.ensemble import RandomForestClassifier\n",
    "\n",
    "rf = RandomForestClassifier(n_estimators=250, random_state=42, oob_score=True)\n",
    "rf.fit(X_train, y_train)\n",
    "# Score = mean accuracy on the given test data and labels\n",
    "print('R^2 Training Score: {:.2f} \\nR^2 Validation Score: {:.2f} \\nOut-of-bag Score: {:.2f}'\n",
    "      .format(rf.score(X_train, y_train), rf.score(X_test, y_test), rf.oob_score_))"
   ]
  },
  {
   "cell_type": "code",
   "execution_count": 40,
   "metadata": {
    "colab": {
     "base_uri": "https://localhost:8080/",
     "height": 357
    },
    "id": "byV6krktawE_",
    "outputId": "b43f9da0-593c-4ec1-f993-d61d78a65706"
   },
   "outputs": [
    {
     "name": "stdout",
     "output_type": "stream",
     "text": [
      "1.\t#51\t0.081\tAverage Packet Size\n",
      "2.\t#13\t0.076\tFlow Bytes/s\n",
      "3.\t#38\t0.064\tMax Packet Length\n",
      "4.\t#39\t0.057\tPacket Length Mean\n",
      "5.\t#7\t0.055\tFwd Packet Length Mean\n",
      "6.\t#61\t0.055\tSubflow Fwd Bytes\n",
      "7.\t#23\t0.054\tFwd IAT Min\n",
      "8.\t#52\t0.052\tAvg Fwd Segment Size\n",
      "9.\t#3\t0.039\tTotal Length of Fwd Packets\n",
      "10.\t#15\t0.036\tFlow IAT Mean\n",
      "11.\t#5\t0.032\tFwd Packet Length Max\n",
      "12.\t#21\t0.029\tFwd IAT Std\n",
      "13.\t#33\t0.027\tFwd Header Length\n",
      "14.\t#0\t0.027\tFlow Duration\n",
      "15.\t#14\t0.023\tFlow Packets/s\n",
      "16.\t#22\t0.023\tFwd IAT Max\n",
      "17.\t#35\t0.021\tFwd Packets/s\n",
      "18.\t#16\t0.019\tFlow IAT Std\n",
      "19.\t#19\t0.018\tFwd IAT Total\n",
      "20.\t#20\t0.017\tFwd IAT Mean\n"
     ]
    }
   ],
   "source": [
    "features = X.columns\n",
    "importances = rf.feature_importances_\n",
    "indices = np.argsort(importances)[::-1]\n",
    "webattack_features = []\n",
    "\n",
    "for index, i in enumerate(indices[:20]):\n",
    "    webattack_features.append(features[i])\n",
    "    print('{}.\\t#{}\\t{:.3f}\\t{}'.format(index + 1, i, importances[i], features[i]))"
   ]
  },
  {
   "cell_type": "markdown",
   "metadata": {
    "id": "3RXQUuqHa11b"
   },
   "source": [
    "For comparison, the results of the study [Sharafaldin2018] (compare relatively, without taking into account the multiplier):\n",
    " \n",
    "* Init Win F.Bytes 0.0200\n",
    "* Subflow F.Bytes 0.0145\n",
    "* Init Win B.Bytes 0.0129\n",
    "* Total Len F.Packets 0.0096\n",
    "\n",
    "And incorrect results [Kostas2018] (error was found in assessing the importance of features, line: *impor_bars = pd.DataFrame({'Features':refclasscol[0:20],'importance':importances[0:20]})*, the importances[0:20] sample does not take into account that the values are not sorted in descending order):\n",
    " \n",
    "* Flow Bytes/s 0.313402\n",
    "* Total Length of Fwd Packets 0.304917\n",
    "* Flow Duration 0.000485\n",
    "* Fwd Packet Length Max 0.00013"
   ]
  },
  {
   "cell_type": "code",
   "execution_count": 41,
   "metadata": {
    "colab": {
     "base_uri": "https://localhost:8080/",
     "height": 513
    },
    "id": "TPxzWeP4bHa5",
    "outputId": "5815f66e-3b0e-4c06-a7d6-6c0b1a49b59d"
   },
   "outputs": [
    {
     "data": {
      "image/png": "[encoded data removed]",
      "text/plain": [
       "<Figure size 720x432 with 1 Axes>"
      ]
     },
     "metadata": {
      "needs_background": "light"
     },
     "output_type": "display_data"
    }
   ],
   "source": [
    "indices = np.argsort(importances)[-20:]\n",
    "plt.rcParams['figure.figsize'] = (10, 6)\n",
    "plt.title('Feature Importances')\n",
    "plt.barh(range(len(indices)), importances[indices], color='#cccccc', align='center')\n",
    "plt.yticks(range(len(indices)), [features[i] for i in indices])\n",
    "plt.xlabel('Relative Importance')\n",
    "plt.grid()\n",
    "plt.savefig('feature_importances.png', dpi=300, bbox_inches='tight')\n",
    "plt.show()"
   ]
  },
  {
   "cell_type": "code",
   "execution_count": 42,
   "metadata": {
    "colab": {
     "base_uri": "https://localhost:8080/",
     "height": 51
    },
    "id": "QaYCrMC4cenU",
    "outputId": "da62ba7e-d7af-41e8-d9a9-0fab415eba7e"
   },
   "outputs": [
    {
     "data": {
      "text/plain": [
       "array([[1522,    9],\n",
       "       [  18,  632]], dtype=int64)"
      ]
     },
     "execution_count": 42,
     "metadata": {},
     "output_type": "execute_result"
    }
   ],
   "source": [
    "y_pred = rf.predict(X_test)\n",
    "confusion_matrix(y_test, y_pred)"
   ]
  },
  {
   "cell_type": "markdown",
   "metadata": {
    "id": "ktl5y47rcsiy"
   },
   "source": [
    "Next, for experiments, we keep the first max_features of features with maximum importance."
   ]
  },
  {
   "cell_type": "code",
   "execution_count": 43,
   "metadata": {
    "colab": {
     "base_uri": "https://localhost:8080/",
     "height": 357
    },
    "id": "Xriaa8XicuoB",
    "outputId": "8a171904-2d66-4d5f-b0e3-3f549f383cdc"
   },
   "outputs": [
    {
     "data": {
      "text/plain": [
       "['Average Packet Size',\n",
       " 'Flow Bytes/s',\n",
       " 'Max Packet Length',\n",
       " 'Packet Length Mean',\n",
       " 'Fwd Packet Length Mean',\n",
       " 'Subflow Fwd Bytes',\n",
       " 'Fwd IAT Min',\n",
       " 'Avg Fwd Segment Size',\n",
       " 'Total Length of Fwd Packets',\n",
       " 'Flow IAT Mean',\n",
       " 'Fwd Packet Length Max',\n",
       " 'Fwd IAT Std',\n",
       " 'Fwd Header Length',\n",
       " 'Flow Duration',\n",
       " 'Flow Packets/s',\n",
       " 'Fwd IAT Max',\n",
       " 'Fwd Packets/s',\n",
       " 'Flow IAT Std',\n",
       " 'Fwd IAT Total',\n",
       " 'Fwd IAT Mean']"
      ]
     },
     "execution_count": 43,
     "metadata": {},
     "output_type": "execute_result"
    }
   ],
   "source": [
    "max_features = 20\n",
    "webattack_features = webattack_features[:max_features]\n",
    "webattack_features"
   ]
  },
  {
   "cell_type": "markdown",
   "metadata": {
    "id": "eLikdx9Legm0"
   },
   "source": [
    "## Analysis of selected features"
   ]
  },
  {
   "cell_type": "code",
   "execution_count": 44,
   "metadata": {
    "colab": {
     "base_uri": "https://localhost:8080/",
     "height": 716
    },
    "id": "l4AlTAUme5aJ",
    "outputId": "30c0dea5-f39d-4bf5-dc91-fb1619023a2c"
   },
   "outputs": [
    {
     "data": {
      "image/png": "[encoded data removed]",
      "text/plain": [
       "<Figure size 1440x864 with 20 Axes>"
      ]
     },
     "metadata": {
      "needs_background": "light"
     },
     "output_type": "display_data"
    }
   ],
   "source": [
    "df[webattack_features].hist(figsize=(20,12), bins=10);\n",
    "plt.savefig('features_hist.png', dpi=300)"
   ]
  },
  {
   "cell_type": "markdown",
   "metadata": {
    "id": "qURMpkLBf1ZH"
   },
   "source": [
    "Install Facets Overview\n",
    "\n",
    "https://pair-code.github.io/facets/"
   ]
  },
  {
   "cell_type": "code",
   "execution_count": 45,
   "metadata": {
    "colab": {
     "base_uri": "https://localhost:8080/",
     "height": 153
    },
    "id": "QH4RxYR14jjz",
    "outputId": "bb5e2d44-b5b2-401e-815f-e78c85304ad5"
   },
   "outputs": [
    {
     "name": "stdout",
     "output_type": "stream",
     "text": [
      "Requirement already satisfied: facets-overview in c:\\programdata\\anaconda3\\lib\\site-packages (1.0.0)\n",
      "Requirement already satisfied: pandas>=0.22.0 in c:\\programdata\\anaconda3\\lib\\site-packages (from facets-overview) (0.24.2)\n",
      "Requirement already satisfied: protobuf>=3.7.0 in c:\\programdata\\anaconda3\\lib\\site-packages (from facets-overview) (3.13.0)\n",
      "Requirement already satisfied: numpy>=1.16.0 in c:\\programdata\\anaconda3\\lib\\site-packages (from facets-overview) (1.16.2)\n",
      "Requirement already satisfied: python-dateutil>=2.5.0 in c:\\programdata\\anaconda3\\lib\\site-packages (from pandas>=0.22.0->facets-overview) (2.8.0)\n",
      "Requirement already satisfied: pytz>=2011k in c:\\programdata\\anaconda3\\lib\\site-packages (from pandas>=0.22.0->facets-overview) (2018.9)\n",
      "Requirement already satisfied: setuptools in c:\\programdata\\anaconda3\\lib\\site-packages (from protobuf>=3.7.0->facets-overview) (40.8.0)\n",
      "Requirement already satisfied: six>=1.9 in c:\\programdata\\anaconda3\\lib\\site-packages (from protobuf>=3.7.0->facets-overview) (1.12.0)\n"
     ]
    }
   ],
   "source": [
    "!pip install facets-overview"
   ]
  },
  {
   "cell_type": "markdown",
   "metadata": {
    "id": "_A9f2J2tf9eA"
   },
   "source": [
    "Create the feature stats for the datasets and stringify it."
   ]
  },
  {
   "cell_type": "code",
   "execution_count": 46,
   "metadata": {
    "id": "0juU1aJQ44sk"
   },
   "outputs": [],
   "source": [
    "import base64\n",
    "from facets_overview.generic_feature_statistics_generator import GenericFeatureStatisticsGenerator\n",
    "\n",
    "gfsg = GenericFeatureStatisticsGenerator()\n",
    "proto = gfsg.ProtoFromDataFrames([{'name': 'train + test', 'table': df[webattack_features]}])\n",
    "protostr = base64.b64encode(proto.SerializeToString()).decode(\"utf-8\")"
   ]
  },
  {
   "cell_type": "markdown",
   "metadata": {
    "id": "9Wqs7qELgBkM"
   },
   "source": [
    "Display the facets overview visualization for this data."
   ]
  },
  {
   "cell_type": "code",
   "execution_count": 47,
   "metadata": {
    "colab": {
     "base_uri": "https://localhost:8080/",
     "height": 1000
    },
    "id": "mYvQDTKH5YRr",
    "outputId": "332a8ae7-e3a6-4c18-983e-be180619ca2e"
   },
   "outputs": [
    {
     "data": {
      "text/html": [
       "\n",
       "        <script src=\"https://cdnjs.cloudflare.com/ajax/libs/webcomponentsjs/1.3.3/webcomponents-lite.js\"></script>\n",
       "        <link rel=\"import\" href=\"https://raw.githubusercontent.com/PAIR-code/facets/1.0.0/facets-dist/facets-jupyter.html\" >\n",
       "        <facets-overview id=\"elem\"></facets-overview>\n",
       "        <script>\n",
       "          document.querySelector(\"#elem\").protoInput = \"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\";\n",
       "        </script>"
      ],
      "text/plain": [
       "<IPython.core.display.HTML object>"
      ]
     },
     "metadata": {},
     "output_type": "display_data"
    }
   ],
   "source": [
    "from IPython.core.display import display, HTML\n",
    "\n",
    "HTML_TEMPLATE = \"\"\"\n",
    "        <script src=\"https://cdnjs.cloudflare.com/ajax/libs/webcomponentsjs/1.3.3/webcomponents-lite.js\"></script>\n",
    "        <link rel=\"import\" href=\"https://raw.githubusercontent.com/PAIR-code/facets/1.0.0/facets-dist/facets-jupyter.html\" >\n",
    "        <facets-overview id=\"elem\"></facets-overview>\n",
    "        <script>\n",
    "          document.querySelector(\"#elem\").protoInput = \"{protostr}\";\n",
    "        </script>\"\"\"\n",
    "html = HTML_TEMPLATE.format(protostr=protostr)\n",
    "display(HTML(html))"
   ]
  },
  {
   "cell_type": "code",
   "execution_count": 48,
   "metadata": {
    "colab": {
     "base_uri": "https://localhost:8080/",
     "height": 485
    },
    "id": "IIqD-DjrgbIr",
    "outputId": "745329d3-a08e-43e1-be61-3410b21254ca"
   },
   "outputs": [
    {
     "data": {
      "image/png": "[encoded data removed]",
      "text/plain": [
       "<Figure size 1152x360 with 2 Axes>"
      ]
     },
     "metadata": {
      "needs_background": "light"
     },
     "output_type": "display_data"
    }
   ],
   "source": [
    "import seaborn as sns\n",
    "corr_matrix = df[webattack_features].corr()\n",
    "plt.rcParams['figure.figsize'] = (16, 5)\n",
    "g = sns.heatmap(corr_matrix, annot=True, fmt='.1g', cmap='Greys')\n",
    "g.set_xticklabels(g.get_xticklabels(), verticalalignment='top', horizontalalignment='right', rotation=30);\n",
    "plt.savefig('corr_heatmap.png', dpi=300, bbox_inches='tight')"
   ]
  },
  {
   "cell_type": "markdown",
   "metadata": {
    "id": "r2J6Pz0xglza"
   },
   "source": [
    "Remove correlated features."
   ]
  },
  {
   "cell_type": "code",
   "execution_count": 49,
   "metadata": {
    "colab": {
     "base_uri": "https://localhost:8080/",
     "height": 187
    },
    "id": "Nml7xnnqgoMz",
    "outputId": "0aa704e5-a5ce-4234-d88b-e8c30b7fc68c"
   },
   "outputs": [
    {
     "data": {
      "text/plain": [
       "['Average Packet Size',\n",
       " 'Flow Bytes/s',\n",
       " 'Max Packet Length',\n",
       " 'Fwd Packet Length Mean',\n",
       " 'Fwd IAT Min',\n",
       " 'Total Length of Fwd Packets',\n",
       " 'Flow IAT Mean',\n",
       " 'Fwd Packet Length Max',\n",
       " 'Fwd IAT Std',\n",
       " 'Fwd Header Length']"
      ]
     },
     "execution_count": 49,
     "metadata": {},
     "output_type": "execute_result"
    }
   ],
   "source": [
    "to_be_removed = {'Packet Length Mean', 'Avg Fwd Segment Size', 'Subflow Fwd Bytes', \n",
    "                 'Fwd Packets/s', 'Fwd IAT Total', 'Fwd IAT Max'}\n",
    "webattack_features = [item for item in webattack_features if item not in to_be_removed]\n",
    "webattack_features = webattack_features[:10]\n",
    "webattack_features"
   ]
  },
  {
   "cell_type": "code",
   "execution_count": 50,
   "metadata": {
    "colab": {
     "base_uri": "https://localhost:8080/",
     "height": 451
    },
    "id": "vHbm-bkbgDw8",
    "outputId": "446d41d9-78b9-47c8-d99b-7e56a4d0eab8"
   },
   "outputs": [
    {
     "data": {
      "image/png": "[encoded data removed]",
      "text/plain": [
       "<Figure size 432x360 with 2 Axes>"
      ]
     },
     "metadata": {
      "needs_background": "light"
     },
     "output_type": "display_data"
    }
   ],
   "source": [
    "corr_matrix = df[webattack_features].corr()\n",
    "plt.rcParams['figure.figsize'] = (6, 5)\n",
    "sns.heatmap(corr_matrix, annot=True, fmt='.1g', cmap='Greys');"
   ]
  },
  {
   "cell_type": "markdown",
   "metadata": {
    "id": "eh-k8KdMhJ_Q"
   },
   "source": [
    "## Hyperparameter selection"
   ]
  },
  {
   "cell_type": "markdown",
   "metadata": {
    "id": "-jMiAnOthSIn"
   },
   "source": [
    "Reopen the dataset."
   ]
  },
  {
   "cell_type": "code",
   "execution_count": 51,
   "metadata": {
    "colab": {
     "base_uri": "https://localhost:8080/",
     "height": 34
    },
    "id": "vrwIysyAhKxI",
    "outputId": "6be7974a-d713-4c89-b147-8b8cebb7fba7"
   },
   "outputs": [
    {
     "name": "stdout",
     "output_type": "stream",
     "text": [
      "(7267, 10) (7267,)\n"
     ]
    }
   ],
   "source": [
    "from sklearn.model_selection import GridSearchCV\n",
    "\n",
    "df = pd.read_csv('web_attacks_balanced.csv')\n",
    "df['Label'] = df['Label'].apply(lambda x: 0 if x == 'BENIGN' else 1)\n",
    "y = df['Label'].values\n",
    "X = df[webattack_features]\n",
    "print(X.shape, y.shape)"
   ]
  },
  {
   "cell_type": "markdown",
   "metadata": {},
   "source": [
    "If necessary, we will work with our own dataset."
   ]
  },
  {
   "cell_type": "code",
   "execution_count": 52,
   "metadata": {},
   "outputs": [],
   "source": [
    "#df = pd.read_csv('mix_labelled.csv')\n",
    "#y = df['Label'].values\n",
    "#X = df[webattack_features]\n",
    "#print(X.shape, y.shape)"
   ]
  },
  {
   "cell_type": "markdown",
   "metadata": {
    "id": "PFYYEqnihZnZ"
   },
   "source": [
    "We get the list of RandomForestClassifier parameters."
   ]
  },
  {
   "cell_type": "code",
   "execution_count": 53,
   "metadata": {
    "colab": {
     "base_uri": "https://localhost:8080/",
     "height": 54
    },
    "id": "wc_IVcRPhU82",
    "outputId": "b246e3ad-4240-460b-f294-3ee8109e8b4e"
   },
   "outputs": [
    {
     "data": {
      "text/plain": [
       "dict_keys(['bootstrap', 'ccp_alpha', 'class_weight', 'criterion', 'max_depth', 'max_features', 'max_leaf_nodes', 'max_samples', 'min_impurity_decrease', 'min_impurity_split', 'min_samples_leaf', 'min_samples_split', 'min_weight_fraction_leaf', 'n_estimators', 'n_jobs', 'oob_score', 'random_state', 'verbose', 'warm_start'])"
      ]
     },
     "execution_count": 53,
     "metadata": {},
     "output_type": "execute_result"
    }
   ],
   "source": [
    "rfc = RandomForestClassifier(random_state=1)\n",
    "rfc.get_params().keys()"
   ]
  },
  {
   "cell_type": "markdown",
   "metadata": {
    "id": "LQ8VThpnheWD"
   },
   "source": [
    "For search of quasi-optimal value of one parameter we fix the others."
   ]
  },
  {
   "cell_type": "code",
   "execution_count": 54,
   "metadata": {
    "colab": {
     "base_uri": "https://localhost:8080/",
     "height": 51
    },
    "id": "4JoxI-axhdD7",
    "outputId": "211fa8fc-2493-48fd-d0d2-a48b6f2e06a4"
   },
   "outputs": [
    {
     "name": "stdout",
     "output_type": "stream",
     "text": [
      "Wall time: 29 s\n"
     ]
    }
   ],
   "source": [
    "parameters = {'n_estimators': [10],\n",
    "              'min_samples_leaf': [3],\n",
    "              'max_features': [3], \n",
    "              'max_depth': [1, 2, 3, 4, 5, 6, 7, 8, 9, 10, 11, 13, 15, 17, 20, 30, 50]}\n",
    "scoring = {'f1', 'accuracy'}\n",
    "gcv = GridSearchCV(rfc, parameters, scoring=scoring, refit='f1', cv=10, return_train_score=True)\n",
    "get_ipython().run_line_magic('time', 'gcv.fit(X, y)')\n",
    "results = gcv.cv_results_"
   ]
  },
  {
   "cell_type": "code",
   "execution_count": 55,
   "metadata": {
    "colab": {
     "base_uri": "https://localhost:8080/",
     "height": 168
    },
    "id": "OOS-7FXchh31",
    "outputId": "b1a993d9-0a3e-4f59-f012-8c37b503c266"
   },
   "outputs": [
    {
     "data": {
      "text/html": [
       "<div>\n",
       "<style scoped>\n",
       "    .dataframe tbody tr th:only-of-type {\n",
       "        vertical-align: middle;\n",
       "    }\n",
       "\n",
       "    .dataframe tbody tr th {\n",
       "        vertical-align: top;\n",
       "    }\n",
       "\n",
       "    .dataframe thead th {\n",
       "        text-align: right;\n",
       "    }\n",
       "</style>\n",
       "<table border=\"1\" class=\"dataframe\">\n",
       "  <thead>\n",
       "    <tr style=\"text-align: right;\">\n",
       "      <th></th>\n",
       "      <th>mean_fit_time</th>\n",
       "      <th>std_fit_time</th>\n",
       "      <th>mean_score_time</th>\n",
       "      <th>std_score_time</th>\n",
       "      <th>param_max_depth</th>\n",
       "      <th>param_max_features</th>\n",
       "      <th>param_min_samples_leaf</th>\n",
       "      <th>param_n_estimators</th>\n",
       "      <th>params</th>\n",
       "      <th>split0_test_f1</th>\n",
       "      <th>...</th>\n",
       "      <th>split2_train_accuracy</th>\n",
       "      <th>split3_train_accuracy</th>\n",
       "      <th>split4_train_accuracy</th>\n",
       "      <th>split5_train_accuracy</th>\n",
       "      <th>split6_train_accuracy</th>\n",
       "      <th>split7_train_accuracy</th>\n",
       "      <th>split8_train_accuracy</th>\n",
       "      <th>split9_train_accuracy</th>\n",
       "      <th>mean_train_accuracy</th>\n",
       "      <th>std_train_accuracy</th>\n",
       "    </tr>\n",
       "  </thead>\n",
       "  <tbody>\n",
       "    <tr>\n",
       "      <th>0</th>\n",
       "      <td>0.066604</td>\n",
       "      <td>0.009058</td>\n",
       "      <td>0.012801</td>\n",
       "      <td>0.002857</td>\n",
       "      <td>1</td>\n",
       "      <td>3</td>\n",
       "      <td>3</td>\n",
       "      <td>10</td>\n",
       "      <td>{'max_depth': 1, 'max_features': 3, 'min_sampl...</td>\n",
       "      <td>0.853273</td>\n",
       "      <td>...</td>\n",
       "      <td>0.907645</td>\n",
       "      <td>0.907187</td>\n",
       "      <td>0.907645</td>\n",
       "      <td>0.906575</td>\n",
       "      <td>0.903976</td>\n",
       "      <td>0.904143</td>\n",
       "      <td>0.903532</td>\n",
       "      <td>0.906742</td>\n",
       "      <td>0.906151</td>\n",
       "      <td>0.001644</td>\n",
       "    </tr>\n",
       "    <tr>\n",
       "      <th>1</th>\n",
       "      <td>0.092505</td>\n",
       "      <td>0.015404</td>\n",
       "      <td>0.013001</td>\n",
       "      <td>0.001789</td>\n",
       "      <td>2</td>\n",
       "      <td>3</td>\n",
       "      <td>3</td>\n",
       "      <td>10</td>\n",
       "      <td>{'max_depth': 2, 'max_features': 3, 'min_sampl...</td>\n",
       "      <td>0.896725</td>\n",
       "      <td>...</td>\n",
       "      <td>0.957187</td>\n",
       "      <td>0.956422</td>\n",
       "      <td>0.956269</td>\n",
       "      <td>0.956728</td>\n",
       "      <td>0.957492</td>\n",
       "      <td>0.952760</td>\n",
       "      <td>0.952760</td>\n",
       "      <td>0.957805</td>\n",
       "      <td>0.956195</td>\n",
       "      <td>0.001790</td>\n",
       "    </tr>\n",
       "    <tr>\n",
       "      <th>2</th>\n",
       "      <td>0.102306</td>\n",
       "      <td>0.010199</td>\n",
       "      <td>0.013101</td>\n",
       "      <td>0.001513</td>\n",
       "      <td>3</td>\n",
       "      <td>3</td>\n",
       "      <td>3</td>\n",
       "      <td>10</td>\n",
       "      <td>{'max_depth': 3, 'max_features': 3, 'min_sampl...</td>\n",
       "      <td>0.896203</td>\n",
       "      <td>...</td>\n",
       "      <td>0.959939</td>\n",
       "      <td>0.959327</td>\n",
       "      <td>0.959021</td>\n",
       "      <td>0.958563</td>\n",
       "      <td>0.959327</td>\n",
       "      <td>0.954594</td>\n",
       "      <td>0.955359</td>\n",
       "      <td>0.959792</td>\n",
       "      <td>0.958549</td>\n",
       "      <td>0.001858</td>\n",
       "    </tr>\n",
       "    <tr>\n",
       "      <th>3</th>\n",
       "      <td>0.109006</td>\n",
       "      <td>0.017194</td>\n",
       "      <td>0.011901</td>\n",
       "      <td>0.001640</td>\n",
       "      <td>4</td>\n",
       "      <td>3</td>\n",
       "      <td>3</td>\n",
       "      <td>10</td>\n",
       "      <td>{'max_depth': 4, 'max_features': 3, 'min_sampl...</td>\n",
       "      <td>0.907268</td>\n",
       "      <td>...</td>\n",
       "      <td>0.971101</td>\n",
       "      <td>0.970948</td>\n",
       "      <td>0.970948</td>\n",
       "      <td>0.971254</td>\n",
       "      <td>0.972018</td>\n",
       "      <td>0.969271</td>\n",
       "      <td>0.963920</td>\n",
       "      <td>0.973399</td>\n",
       "      <td>0.969956</td>\n",
       "      <td>0.002513</td>\n",
       "    </tr>\n",
       "    <tr>\n",
       "      <th>4</th>\n",
       "      <td>0.122207</td>\n",
       "      <td>0.012255</td>\n",
       "      <td>0.013101</td>\n",
       "      <td>0.002022</td>\n",
       "      <td>5</td>\n",
       "      <td>3</td>\n",
       "      <td>3</td>\n",
       "      <td>10</td>\n",
       "      <td>{'max_depth': 5, 'max_features': 3, 'min_sampl...</td>\n",
       "      <td>0.926108</td>\n",
       "      <td>...</td>\n",
       "      <td>0.974159</td>\n",
       "      <td>0.972018</td>\n",
       "      <td>0.972477</td>\n",
       "      <td>0.972324</td>\n",
       "      <td>0.972171</td>\n",
       "      <td>0.969424</td>\n",
       "      <td>0.969424</td>\n",
       "      <td>0.974010</td>\n",
       "      <td>0.972173</td>\n",
       "      <td>0.001564</td>\n",
       "    </tr>\n",
       "  </tbody>\n",
       "</table>\n",
       "<p>5 rows × 59 columns</p>\n",
       "</div>"
      ],
      "text/plain": [
       "   mean_fit_time  std_fit_time  mean_score_time  std_score_time  \\\n",
       "0       0.066604      0.009058         0.012801        0.002857   \n",
       "1       0.092505      0.015404         0.013001        0.001789   \n",
       "2       0.102306      0.010199         0.013101        0.001513   \n",
       "3       0.109006      0.017194         0.011901        0.001640   \n",
       "4       0.122207      0.012255         0.013101        0.002022   \n",
       "\n",
       "  param_max_depth param_max_features param_min_samples_leaf  \\\n",
       "0               1                  3                      3   \n",
       "1               2                  3                      3   \n",
       "2               3                  3                      3   \n",
       "3               4                  3                      3   \n",
       "4               5                  3                      3   \n",
       "\n",
       "  param_n_estimators                                             params  \\\n",
       "0                 10  {'max_depth': 1, 'max_features': 3, 'min_sampl...   \n",
       "1                 10  {'max_depth': 2, 'max_features': 3, 'min_sampl...   \n",
       "2                 10  {'max_depth': 3, 'max_features': 3, 'min_sampl...   \n",
       "3                 10  {'max_depth': 4, 'max_features': 3, 'min_sampl...   \n",
       "4                 10  {'max_depth': 5, 'max_features': 3, 'min_sampl...   \n",
       "\n",
       "   split0_test_f1  ...  split2_train_accuracy  split3_train_accuracy  \\\n",
       "0        0.853273  ...               0.907645               0.907187   \n",
       "1        0.896725  ...               0.957187               0.956422   \n",
       "2        0.896203  ...               0.959939               0.959327   \n",
       "3        0.907268  ...               0.971101               0.970948   \n",
       "4        0.926108  ...               0.974159               0.972018   \n",
       "\n",
       "   split4_train_accuracy  split5_train_accuracy  split6_train_accuracy  \\\n",
       "0               0.907645               0.906575               0.903976   \n",
       "1               0.956269               0.956728               0.957492   \n",
       "2               0.959021               0.958563               0.959327   \n",
       "3               0.970948               0.971254               0.972018   \n",
       "4               0.972477               0.972324               0.972171   \n",
       "\n",
       "   split7_train_accuracy  split8_train_accuracy  split9_train_accuracy  \\\n",
       "0               0.904143               0.903532               0.906742   \n",
       "1               0.952760               0.952760               0.957805   \n",
       "2               0.954594               0.955359               0.959792   \n",
       "3               0.969271               0.963920               0.973399   \n",
       "4               0.969424               0.969424               0.974010   \n",
       "\n",
       "   mean_train_accuracy  std_train_accuracy  \n",
       "0             0.906151            0.001644  \n",
       "1             0.956195            0.001790  \n",
       "2             0.958549            0.001858  \n",
       "3             0.969956            0.002513  \n",
       "4             0.972173            0.001564  \n",
       "\n",
       "[5 rows x 59 columns]"
      ]
     },
     "execution_count": 55,
     "metadata": {},
     "output_type": "execute_result"
    }
   ],
   "source": [
    "cv_results = pd.DataFrame(gcv.cv_results_)\n",
    "cv_results.head()"
   ]
  },
  {
   "cell_type": "code",
   "execution_count": 56,
   "metadata": {
    "colab": {
     "base_uri": "https://localhost:8080/",
     "height": 406
    },
    "id": "9Y75B_c_hn3b",
    "outputId": "f467bbbc-6fd9-4bb5-ed8e-f68862d6cabd"
   },
   "outputs": [
    {
     "data": {
      "image/png": "[encoded data removed]",
      "text/plain": [
       "<Figure size 576x360 with 1 Axes>"
      ]
     },
     "metadata": {
      "needs_background": "light"
     },
     "output_type": "display_data"
    }
   ],
   "source": [
    "# https://scikit-learn.org/dev/auto_examples/model_selection/plot_multi_metric_evaluation.html\n",
    "plt.figure(figsize=(8, 5))\n",
    "plt.title(\"GridSearchCV results\", fontsize=14)\n",
    "\n",
    "plt.xlabel(\"max_depth\")\n",
    "plt.ylabel(\"f1\")\n",
    "\n",
    "ax = plt.gca()\n",
    "ax.set_xlim(1, 30)\n",
    "ax.set_ylim(0.9, 1)\n",
    "\n",
    "X_axis = np.array(results['param_max_depth'].data, dtype=float)\n",
    "\n",
    "for scorer, color in zip(sorted(scoring), ['g', 'k']):\n",
    "    for sample, style in (('train', '--'), ('test', '-')):\n",
    "        sample_score_mean = results['mean_%s_%s' % (sample, scorer)]\n",
    "        sample_score_std = results['std_%s_%s' % (sample, scorer)]\n",
    "        ax.fill_between(X_axis, sample_score_mean - sample_score_std,\n",
    "                        sample_score_mean + sample_score_std,\n",
    "                        alpha=0.1 if sample == 'test' else 0, color=color)\n",
    "        ax.plot(X_axis, sample_score_mean, style, color=color,\n",
    "                alpha=1 if sample == 'test' else 0.7,\n",
    "                label=\"%s (%s)\" % (scorer, sample))\n",
    "\n",
    "    best_index = np.nonzero(results['rank_test_%s' % scorer] == 1)[0][0]\n",
    "    best_score = results['mean_test_%s' % scorer][best_index]\n",
    "\n",
    "    # Plot a dotted vertical line at the best score for that scorer marked by x\n",
    "    ax.plot([X_axis[best_index], ] * 2, [0, best_score],\n",
    "            linestyle='-.', color=color, marker='x', markeredgewidth=3, ms=8)\n",
    "\n",
    "    # Annotate the best score for that scorer\n",
    "    ax.annotate(\"%0.2f\" % best_score,\n",
    "                (X_axis[best_index] + 0.3, best_score + 0.005))\n",
    "\n",
    "plt.legend(loc=\"best\")\n",
    "plt.grid(False)\n",
    "plt.savefig('GridSearchCV_results.png', dpi=300)\n",
    "plt.show()"
   ]
  },
  {
   "cell_type": "markdown",
   "metadata": {
    "id": "hZtnTrlNk_Uf"
   },
   "source": [
    "### Grid search"
   ]
  },
  {
   "cell_type": "code",
   "execution_count": 57,
   "metadata": {
    "id": "eaeAf6VRhwJq"
   },
   "outputs": [],
   "source": [
    "parameters = {'n_estimators': [30, 50, 70], \n",
    "              'min_samples_leaf': [3, 5, 7],\n",
    "              'max_features': [3, 5, 7, 10], \n",
    "              'max_depth': [10, 17, 23]}\n",
    "\n",
    "# parameters = {'n_estimators': [250]}"
   ]
  },
  {
   "cell_type": "markdown",
   "metadata": {},
   "source": [
    "The operation may take a long time, 3-5 minutes depending on the computer performance."
   ]
  },
  {
   "cell_type": "code",
   "execution_count": 58,
   "metadata": {
    "colab": {
     "base_uri": "https://localhost:8080/",
     "height": 374
    },
    "id": "O3ziP5BolEss",
    "outputId": "0f09bd77-fa69-472a-c195-b4b1f356fffd"
   },
   "outputs": [
    {
     "name": "stdout",
     "output_type": "stream",
     "text": [
      "Wall time: 4min 14s\n"
     ]
    },
    {
     "data": {
      "text/plain": [
       "GridSearchCV(cv=3, estimator=RandomForestClassifier(random_state=1),\n",
       "             param_grid={'max_depth': [10, 17, 23],\n",
       "                         'max_features': [3, 5, 7, 10],\n",
       "                         'min_samples_leaf': [3, 5, 7],\n",
       "                         'n_estimators': [30, 50, 70]},\n",
       "             refit='f1', return_train_score=True, scoring={'f1', 'accuracy'})"
      ]
     },
     "execution_count": 58,
     "metadata": {},
     "output_type": "execute_result"
    }
   ],
   "source": [
    "gcv = GridSearchCV(rfc, parameters, scoring=scoring, refit='f1', cv=3, return_train_score=True)\n",
    "get_ipython().run_line_magic('time', 'gcv.fit(X, y)')"
   ]
  },
  {
   "cell_type": "markdown",
   "metadata": {
    "id": "vwi5Ds61mirz"
   },
   "source": [
    "Let's take a look at the results of the parameter selection."
   ]
  },
  {
   "cell_type": "code",
   "execution_count": 59,
   "metadata": {
    "colab": {
     "base_uri": "https://localhost:8080/",
     "height": 153
    },
    "id": "vi47XwmNmeHT",
    "outputId": "5680d386-af3e-459f-831a-41594fb99765"
   },
   "outputs": [
    {
     "data": {
      "text/plain": [
       "RandomForestClassifier(max_depth=17, max_features=7, min_samples_leaf=3,\n",
       "                       n_estimators=30, random_state=1)"
      ]
     },
     "execution_count": 59,
     "metadata": {},
     "output_type": "execute_result"
    }
   ],
   "source": [
    "gcv.best_estimator_ "
   ]
  },
  {
   "cell_type": "code",
   "execution_count": 60,
   "metadata": {
    "colab": {
     "base_uri": "https://localhost:8080/",
     "height": 34
    },
    "id": "PxeUXPHHmk3C",
    "outputId": "54492363-1028-4859-c586-782e67c9ac82"
   },
   "outputs": [
    {
     "data": {
      "text/plain": [
       "{'max_depth': 17, 'max_features': 7, 'min_samples_leaf': 3, 'n_estimators': 30}"
      ]
     },
     "execution_count": 60,
     "metadata": {},
     "output_type": "execute_result"
    }
   ],
   "source": [
    "gcv.best_params_"
   ]
  },
  {
   "cell_type": "code",
   "execution_count": 61,
   "metadata": {
    "colab": {
     "base_uri": "https://localhost:8080/",
     "height": 34
    },
    "id": "4VFX3ERUmlvk",
    "outputId": "5c5f8f0f-674f-4c0c-f646-ce63425d5f7f"
   },
   "outputs": [
    {
     "data": {
      "text/plain": [
       "0.95393450118321"
      ]
     },
     "execution_count": 61,
     "metadata": {},
     "output_type": "execute_result"
    }
   ],
   "source": [
    "gcv.best_score_"
   ]
  },
  {
   "cell_type": "markdown",
   "metadata": {
    "id": "Iiskwr3VmoL5"
   },
   "source": [
    "## Final model"
   ]
  },
  {
   "cell_type": "code",
   "execution_count": 62,
   "metadata": {},
   "outputs": [
    {
     "name": "stdout",
     "output_type": "stream",
     "text": [
      "(5086, 10) (5086,)\n",
      "(2181, 10) (2181,)\n"
     ]
    }
   ],
   "source": [
    "X_train, X_test, y_train, y_test = train_test_split(X, y, test_size=0.3, random_state=42)\n",
    "print(X_train.shape, y_train.shape)\n",
    "print(X_test.shape, y_test.shape)"
   ]
  },
  {
   "cell_type": "code",
   "execution_count": 63,
   "metadata": {
    "colab": {
     "base_uri": "https://localhost:8080/",
     "height": 153
    },
    "id": "7F8aWhX3mm8B",
    "outputId": "cbb69312-2d41-4eca-93d0-97d194a69604"
   },
   "outputs": [
    {
     "data": {
      "text/plain": [
       "RandomForestClassifier(max_depth=17, max_features=10, min_samples_leaf=3,\n",
       "                       n_estimators=50, oob_score=True, random_state=42)"
      ]
     },
     "execution_count": 63,
     "metadata": {},
     "output_type": "execute_result"
    }
   ],
   "source": [
    "rfc = RandomForestClassifier(max_depth=17, max_features=10, min_samples_leaf=3, n_estimators=50, random_state=42, oob_score=True)\n",
    "# rfc = RandomForestClassifier(n_estimators=250, random_state=1)\n",
    "rfc.fit(X_train, y_train)"
   ]
  },
  {
   "cell_type": "code",
   "execution_count": 64,
   "metadata": {
    "colab": {
     "base_uri": "https://localhost:8080/",
     "height": 187
    },
    "id": "yULIEGsxmtsQ",
    "outputId": "b9eda3ad-c57b-472d-be97-8fed2161802b"
   },
   "outputs": [
    {
     "name": "stdout",
     "output_type": "stream",
     "text": [
      "1.\t#2\t0.373\tMax Packet Length\n",
      "2.\t#0\t0.256\tAverage Packet Size\n",
      "3.\t#8\t0.111\tFwd IAT Std\n",
      "4.\t#9\t0.068\tFwd Header Length\n",
      "5.\t#5\t0.064\tTotal Length of Fwd Packets\n",
      "6.\t#6\t0.049\tFlow IAT Mean\n",
      "7.\t#4\t0.045\tFwd IAT Min\n",
      "8.\t#1\t0.016\tFlow Bytes/s\n",
      "9.\t#3\t0.014\tFwd Packet Length Mean\n",
      "10.\t#7\t0.004\tFwd Packet Length Max\n"
     ]
    }
   ],
   "source": [
    "features = X.columns\n",
    "importances = rfc.feature_importances_\n",
    "indices = np.argsort(importances)[::-1]\n",
    "    \n",
    "for index, i in enumerate(indices[:10]):\n",
    "    print('{}.\\t#{}\\t{:.3f}\\t{}'.format(index + 1, i, importances[i], features[i]))"
   ]
  },
  {
   "cell_type": "code",
   "execution_count": 65,
   "metadata": {},
   "outputs": [
    {
     "data": {
      "text/plain": [
       "array([[1516,   15],\n",
       "       [  19,  631]], dtype=int64)"
      ]
     },
     "execution_count": 65,
     "metadata": {},
     "output_type": "execute_result"
    }
   ],
   "source": [
    "y_pred = rfc.predict(X_test)\n",
    "confusion_matrix(y_test, y_pred)"
   ]
  },
  {
   "cell_type": "code",
   "execution_count": 66,
   "metadata": {
    "colab": {
     "base_uri": "https://localhost:8080/",
     "height": 85
    },
    "id": "WWgbCOjZoIYX",
    "outputId": "fc94afaf-e952-434b-daf8-d9c898056036"
   },
   "outputs": [
    {
     "name": "stdout",
     "output_type": "stream",
     "text": [
      "Accuracy = 0.9844108207244383\n",
      "Precision = 0.9767801857585139\n",
      "Recall = 0.9707692307692307\n",
      "F1 = 0.9737654320987653\n"
     ]
    }
   ],
   "source": [
    "import sklearn.metrics as metrics\n",
    "accuracy = metrics.accuracy_score(y_test, y_pred)\n",
    "precision = metrics.precision_score(y_test, y_pred)\n",
    "recall = metrics.recall_score(y_test, y_pred)\n",
    "f1 = metrics.f1_score(y_test, y_pred)\n",
    "print('Accuracy =', accuracy)\n",
    "print('Precision =', precision)\n",
    "print('Recall =', recall)\n",
    "print('F1 =', f1)"
   ]
  },
  {
   "cell_type": "markdown",
   "metadata": {
    "id": "5PElFLh5oYzU"
   },
   "source": [
    "## Model saving"
   ]
  },
  {
   "cell_type": "code",
   "execution_count": 67,
   "metadata": {
    "id": "QjZyFNFIoMFK"
   },
   "outputs": [],
   "source": [
    "import pickle\n",
    "with open('webattack_detection_rf_model.pkl', 'wb') as f:\n",
    "    pickle.dump(rfc, f)"
   ]
  },
  {
   "cell_type": "markdown",
   "metadata": {
    "id": "pnHSPBrDodIs"
   },
   "source": [
    "## Model approbation"
   ]
  },
  {
   "cell_type": "markdown",
   "metadata": {
    "id": "98uX2hrvofRR"
   },
   "source": [
    "Open the previously saved model."
   ]
  },
  {
   "cell_type": "code",
   "execution_count": 68,
   "metadata": {
    "colab": {
     "base_uri": "https://localhost:8080/",
     "height": 153
    },
    "id": "hxBtpLABob_z",
    "outputId": "8b0ef6ee-591e-4ed3-bac4-de1067520773"
   },
   "outputs": [
    {
     "data": {
      "text/plain": [
       "RandomForestClassifier(max_depth=17, max_features=10, min_samples_leaf=3,\n",
       "                       n_estimators=50, oob_score=True, random_state=42)"
      ]
     },
     "execution_count": 68,
     "metadata": {},
     "output_type": "execute_result"
    }
   ],
   "source": [
    "with open('webattack_detection_rf_model.pkl', 'rb') as f:\n",
    "    rfc = pickle.load(f)\n",
    "rfc"
   ]
  },
  {
   "cell_type": "markdown",
   "metadata": {
    "id": "znNcDQd-oh5G"
   },
   "source": [
    "Reopen the dataset."
   ]
  },
  {
   "cell_type": "code",
   "execution_count": 69,
   "metadata": {
    "colab": {
     "base_uri": "https://localhost:8080/",
     "height": 34
    },
    "id": "z_vhT5fcoguX",
    "outputId": "8ce12f85-6c36-4c07-f3af-e78affc90718"
   },
   "outputs": [
    {
     "name": "stdout",
     "output_type": "stream",
     "text": [
      "(7267, 10) (7267,)\n"
     ]
    }
   ],
   "source": [
    "df = pd.read_csv('web_attacks_balanced.csv')\n",
    "df['Label'] = df['Label'].apply(lambda x: 0 if x == 'BENIGN' else 1)\n",
    "y_test = df['Label'].values\n",
    "X_test = df[webattack_features]\n",
    "print(X_test.shape, y_test.shape)"
   ]
  },
  {
   "cell_type": "markdown",
   "metadata": {},
   "source": [
    "If necessary, we will work with our own dataset."
   ]
  },
  {
   "cell_type": "code",
   "execution_count": 70,
   "metadata": {},
   "outputs": [],
   "source": [
    "#df = pd.read_csv('mix_labelled.csv')\n",
    "#y_test = df['Label'].values\n",
    "#X_test = df[webattack_features]\n",
    "#print(X_test.shape, y_test.shape)"
   ]
  },
  {
   "cell_type": "code",
   "execution_count": 71,
   "metadata": {
    "colab": {
     "base_uri": "https://localhost:8080/",
     "height": 204
    },
    "id": "wmcv42wHoltz",
    "outputId": "fbbe0e7b-7a01-4b02-c7e3-498334b70a6e"
   },
   "outputs": [
    {
     "data": {
      "text/html": [
       "<div>\n",
       "<style scoped>\n",
       "    .dataframe tbody tr th:only-of-type {\n",
       "        vertical-align: middle;\n",
       "    }\n",
       "\n",
       "    .dataframe tbody tr th {\n",
       "        vertical-align: top;\n",
       "    }\n",
       "\n",
       "    .dataframe thead th {\n",
       "        text-align: right;\n",
       "    }\n",
       "</style>\n",
       "<table border=\"1\" class=\"dataframe\">\n",
       "  <thead>\n",
       "    <tr style=\"text-align: right;\">\n",
       "      <th></th>\n",
       "      <th>Average Packet Size</th>\n",
       "      <th>Flow Bytes/s</th>\n",
       "      <th>Max Packet Length</th>\n",
       "      <th>Fwd Packet Length Mean</th>\n",
       "      <th>Fwd IAT Min</th>\n",
       "      <th>Total Length of Fwd Packets</th>\n",
       "      <th>Flow IAT Mean</th>\n",
       "      <th>Fwd Packet Length Max</th>\n",
       "      <th>Fwd IAT Std</th>\n",
       "      <th>Fwd Header Length</th>\n",
       "    </tr>\n",
       "  </thead>\n",
       "  <tbody>\n",
       "    <tr>\n",
       "      <th>0</th>\n",
       "      <td>80.75</td>\n",
       "      <td>3.689366e+03</td>\n",
       "      <td>103.0</td>\n",
       "      <td>39.0</td>\n",
       "      <td>4.0</td>\n",
       "      <td>78.0</td>\n",
       "      <td>25659.333330</td>\n",
       "      <td>39.0</td>\n",
       "      <td>0.0</td>\n",
       "      <td>64.0</td>\n",
       "    </tr>\n",
       "    <tr>\n",
       "      <th>1</th>\n",
       "      <td>80.75</td>\n",
       "      <td>3.635433e+03</td>\n",
       "      <td>103.0</td>\n",
       "      <td>39.0</td>\n",
       "      <td>3.0</td>\n",
       "      <td>78.0</td>\n",
       "      <td>26040.000000</td>\n",
       "      <td>39.0</td>\n",
       "      <td>0.0</td>\n",
       "      <td>64.0</td>\n",
       "    </tr>\n",
       "    <tr>\n",
       "      <th>2</th>\n",
       "      <td>63.50</td>\n",
       "      <td>1.082927e+06</td>\n",
       "      <td>79.0</td>\n",
       "      <td>32.0</td>\n",
       "      <td>37.0</td>\n",
       "      <td>64.0</td>\n",
       "      <td>68.333333</td>\n",
       "      <td>32.0</td>\n",
       "      <td>0.0</td>\n",
       "      <td>64.0</td>\n",
       "    </tr>\n",
       "    <tr>\n",
       "      <th>3</th>\n",
       "      <td>94.25</td>\n",
       "      <td>1.928994e+06</td>\n",
       "      <td>112.0</td>\n",
       "      <td>51.0</td>\n",
       "      <td>3.0</td>\n",
       "      <td>102.0</td>\n",
       "      <td>56.333333</td>\n",
       "      <td>51.0</td>\n",
       "      <td>0.0</td>\n",
       "      <td>64.0</td>\n",
       "    </tr>\n",
       "    <tr>\n",
       "      <th>4</th>\n",
       "      <td>94.25</td>\n",
       "      <td>1.097643e+06</td>\n",
       "      <td>112.0</td>\n",
       "      <td>51.0</td>\n",
       "      <td>4.0</td>\n",
       "      <td>102.0</td>\n",
       "      <td>99.000000</td>\n",
       "      <td>51.0</td>\n",
       "      <td>0.0</td>\n",
       "      <td>64.0</td>\n",
       "    </tr>\n",
       "  </tbody>\n",
       "</table>\n",
       "</div>"
      ],
      "text/plain": [
       "   Average Packet Size  Flow Bytes/s  Max Packet Length  \\\n",
       "0                80.75  3.689366e+03              103.0   \n",
       "1                80.75  3.635433e+03              103.0   \n",
       "2                63.50  1.082927e+06               79.0   \n",
       "3                94.25  1.928994e+06              112.0   \n",
       "4                94.25  1.097643e+06              112.0   \n",
       "\n",
       "   Fwd Packet Length Mean  Fwd IAT Min  Total Length of Fwd Packets  \\\n",
       "0                    39.0          4.0                         78.0   \n",
       "1                    39.0          3.0                         78.0   \n",
       "2                    32.0         37.0                         64.0   \n",
       "3                    51.0          3.0                        102.0   \n",
       "4                    51.0          4.0                        102.0   \n",
       "\n",
       "   Flow IAT Mean  Fwd Packet Length Max  Fwd IAT Std  Fwd Header Length  \n",
       "0   25659.333330                   39.0          0.0               64.0  \n",
       "1   26040.000000                   39.0          0.0               64.0  \n",
       "2      68.333333                   32.0          0.0               64.0  \n",
       "3      56.333333                   51.0          0.0               64.0  \n",
       "4      99.000000                   51.0          0.0               64.0  "
      ]
     },
     "execution_count": 71,
     "metadata": {},
     "output_type": "execute_result"
    }
   ],
   "source": [
    "X_test.head()"
   ]
  },
  {
   "cell_type": "code",
   "execution_count": 72,
   "metadata": {
    "colab": {
     "base_uri": "https://localhost:8080/",
     "height": 68
    },
    "id": "-lSUUhseopZz",
    "outputId": "ef9ad3e0-48ca-43b6-9e64-26e1b8add59a"
   },
   "outputs": [
    {
     "name": "stdout",
     "output_type": "stream",
     "text": [
      "Total operation time: 0.08200478553771973 seconds\n",
      "Benign records detected (0), attacks detected (1):\n"
     ]
    },
    {
     "data": {
      "text/plain": [
       "{0: 5102, 1: 2165}"
      ]
     },
     "execution_count": 72,
     "metadata": {},
     "output_type": "execute_result"
    }
   ],
   "source": [
    "import time\n",
    "seconds = time.time()\n",
    "y_pred = rfc.predict(X_test)\n",
    "print(\"Total operation time:\", time.time() - seconds, \"seconds\")\n",
    "\n",
    "print(\"Benign records detected (0), attacks detected (1):\")\n",
    "unique, counts = np.unique(y_pred, return_counts=True)\n",
    "dict(zip(unique, counts))"
   ]
  },
  {
   "cell_type": "markdown",
   "metadata": {
    "id": "J2czidjro0at"
   },
   "source": [
    "Confusion matrix:\n",
    "\n",
    "      0  1 - predicted value (Wikipedia uses different convention for axes)\n",
    "    0 TN FP\n",
    "    1 FN TP"
   ]
  },
  {
   "cell_type": "code",
   "execution_count": 73,
   "metadata": {
    "colab": {
     "base_uri": "https://localhost:8080/",
     "height": 51
    },
    "id": "-g03Us5potkl",
    "outputId": "502b9a3b-2cb4-4363-ad66-40f879b52186"
   },
   "outputs": [
    {
     "data": {
      "text/plain": [
       "array([[5044,   43],\n",
       "       [  58, 2122]], dtype=int64)"
      ]
     },
     "execution_count": 73,
     "metadata": {},
     "output_type": "execute_result"
    }
   ],
   "source": [
    "confusion_matrix(y_test, y_pred)"
   ]
  },
  {
   "cell_type": "code",
   "execution_count": 74,
   "metadata": {
    "colab": {
     "base_uri": "https://localhost:8080/",
     "height": 85
    },
    "id": "qBDPbUU_o6Pi",
    "outputId": "8ad0fd77-427b-472c-daae-cda92b67ffc2"
   },
   "outputs": [
    {
     "name": "stdout",
     "output_type": "stream",
     "text": [
      "Accuracy = 0.9861015549745424\n",
      "Precision = 0.9801385681293302\n",
      "Recall = 0.9733944954128441\n",
      "F1 = 0.9767548906789413\n"
     ]
    }
   ],
   "source": [
    "accuracy = metrics.accuracy_score(y_test, y_pred)\n",
    "precision = metrics.precision_score(y_test, y_pred)\n",
    "recall = metrics.recall_score(y_test, y_pred)\n",
    "f1 = metrics.f1_score(y_test, y_pred)\n",
    "print('Accuracy =', accuracy)\n",
    "print('Precision =', precision)\n",
    "print('Recall =', recall)\n",
    "print('F1 =', f1)"
   ]
  },
  {
   "cell_type": "markdown",
   "metadata": {
    "id": "u4OU8WyZpJdD"
   },
   "source": [
    "Manual calculation of the confusion matrix:\n",
    "    \n",
    "    array([[5075,   12],\n",
    "           [   1, 2179]], dtype=int64)\n",
    "  \n",
    "      0  1 - predicted value (Wikipedia uses different convention for axes)\n",
    "    0 TN FP\n",
    "    1 FN TP\n",
    "\n",
    "    Точность\n",
    "    Precision = TP / (TP + FP) = 2179 / (2179 + 12) = 0.9945230488361478\n",
    "\n",
    "    Полнота\n",
    "    Recall = TP / (TP + FN) = 2179 / (2179 + 1) = 0.9995412844036697\n",
    "\n",
    "    F-мера, параметр = 1, гармоническое среднее точности и полноты, множитель = 2\n",
    "    F1 = 2 * (precision * recall) / (precision + recall) = 0.9970258522077328\n",
    "\n",
    "    Доля правильных ответов\n",
    "    Accuracy = TP + TN / (TP + TN + FP + FN) = (2179 + 5075) / 7267 = 0.998211091234347"
   ]
  },
  {
   "cell_type": "code",
   "execution_count": 75,
   "metadata": {
    "id": "RyyORmRrpDTz"
   },
   "outputs": [],
   "source": [
    "predict = pd.DataFrame({'Predict': rfc.predict(X_test)})\n",
    "label = pd.DataFrame({'Label': y_test})\n",
    "result = X_test.join(label).join(predict)"
   ]
  },
  {
   "cell_type": "code",
   "execution_count": 76,
   "metadata": {
    "colab": {
     "base_uri": "https://localhost:8080/",
     "height": 419
    },
    "id": "Vgpf2SVmpnyp",
    "outputId": "ea5e58a0-f808-45ee-ecdc-4f3e0327cf57"
   },
   "outputs": [
    {
     "data": {
      "text/html": [
       "<div>\n",
       "<style scoped>\n",
       "    .dataframe tbody tr th:only-of-type {\n",
       "        vertical-align: middle;\n",
       "    }\n",
       "\n",
       "    .dataframe tbody tr th {\n",
       "        vertical-align: top;\n",
       "    }\n",
       "\n",
       "    .dataframe thead th {\n",
       "        text-align: right;\n",
       "    }\n",
       "</style>\n",
       "<table border=\"1\" class=\"dataframe\">\n",
       "  <thead>\n",
       "    <tr style=\"text-align: right;\">\n",
       "      <th></th>\n",
       "      <th>Average Packet Size</th>\n",
       "      <th>Flow Bytes/s</th>\n",
       "      <th>Max Packet Length</th>\n",
       "      <th>Fwd Packet Length Mean</th>\n",
       "      <th>Fwd IAT Min</th>\n",
       "      <th>Total Length of Fwd Packets</th>\n",
       "      <th>Flow IAT Mean</th>\n",
       "      <th>Fwd Packet Length Max</th>\n",
       "      <th>Fwd IAT Std</th>\n",
       "      <th>Fwd Header Length</th>\n",
       "      <th>Label</th>\n",
       "      <th>Predict</th>\n",
       "    </tr>\n",
       "  </thead>\n",
       "  <tbody>\n",
       "    <tr>\n",
       "      <th>159</th>\n",
       "      <td>0.000000</td>\n",
       "      <td>0.000000</td>\n",
       "      <td>0.0</td>\n",
       "      <td>0.000000</td>\n",
       "      <td>0.0</td>\n",
       "      <td>0.0</td>\n",
       "      <td>5.100000e+01</td>\n",
       "      <td>0.0</td>\n",
       "      <td>0.000000e+00</td>\n",
       "      <td>32.0</td>\n",
       "      <td>0</td>\n",
       "      <td>1</td>\n",
       "    </tr>\n",
       "    <tr>\n",
       "      <th>181</th>\n",
       "      <td>0.000000</td>\n",
       "      <td>0.000000</td>\n",
       "      <td>0.0</td>\n",
       "      <td>0.000000</td>\n",
       "      <td>0.0</td>\n",
       "      <td>0.0</td>\n",
       "      <td>4.500000e+01</td>\n",
       "      <td>0.0</td>\n",
       "      <td>0.000000e+00</td>\n",
       "      <td>32.0</td>\n",
       "      <td>0</td>\n",
       "      <td>1</td>\n",
       "    </tr>\n",
       "    <tr>\n",
       "      <th>252</th>\n",
       "      <td>0.000000</td>\n",
       "      <td>0.000000</td>\n",
       "      <td>0.0</td>\n",
       "      <td>0.000000</td>\n",
       "      <td>0.0</td>\n",
       "      <td>0.0</td>\n",
       "      <td>5.100000e+01</td>\n",
       "      <td>0.0</td>\n",
       "      <td>0.000000e+00</td>\n",
       "      <td>32.0</td>\n",
       "      <td>0</td>\n",
       "      <td>1</td>\n",
       "    </tr>\n",
       "    <tr>\n",
       "      <th>404</th>\n",
       "      <td>238.785714</td>\n",
       "      <td>644.729782</td>\n",
       "      <td>1047.0</td>\n",
       "      <td>146.000000</td>\n",
       "      <td>4.0</td>\n",
       "      <td>1022.0</td>\n",
       "      <td>3.988552e+05</td>\n",
       "      <td>372.0</td>\n",
       "      <td>5.614102e+04</td>\n",
       "      <td>232.0</td>\n",
       "      <td>1</td>\n",
       "      <td>1</td>\n",
       "    </tr>\n",
       "    <tr>\n",
       "      <th>407</th>\n",
       "      <td>0.000000</td>\n",
       "      <td>0.000000</td>\n",
       "      <td>0.0</td>\n",
       "      <td>0.000000</td>\n",
       "      <td>0.0</td>\n",
       "      <td>0.0</td>\n",
       "      <td>8.100000e+01</td>\n",
       "      <td>0.0</td>\n",
       "      <td>0.000000e+00</td>\n",
       "      <td>32.0</td>\n",
       "      <td>1</td>\n",
       "      <td>1</td>\n",
       "    </tr>\n",
       "    <tr>\n",
       "      <th>409</th>\n",
       "      <td>199.916667</td>\n",
       "      <td>455.121233</td>\n",
       "      <td>1066.0</td>\n",
       "      <td>138.428571</td>\n",
       "      <td>323.0</td>\n",
       "      <td>969.0</td>\n",
       "      <td>4.791930e+05</td>\n",
       "      <td>561.0</td>\n",
       "      <td>2.003103e+06</td>\n",
       "      <td>232.0</td>\n",
       "      <td>1</td>\n",
       "      <td>1</td>\n",
       "    </tr>\n",
       "    <tr>\n",
       "      <th>411</th>\n",
       "      <td>218.454545</td>\n",
       "      <td>478.624430</td>\n",
       "      <td>1066.0</td>\n",
       "      <td>139.000000</td>\n",
       "      <td>18.0</td>\n",
       "      <td>973.0</td>\n",
       "      <td>5.020638e+05</td>\n",
       "      <td>565.0</td>\n",
       "      <td>2.021330e+06</td>\n",
       "      <td>232.0</td>\n",
       "      <td>1</td>\n",
       "      <td>1</td>\n",
       "    </tr>\n",
       "    <tr>\n",
       "      <th>482</th>\n",
       "      <td>618.150000</td>\n",
       "      <td>7589.090322</td>\n",
       "      <td>5330.0</td>\n",
       "      <td>178.750000</td>\n",
       "      <td>195.0</td>\n",
       "      <td>2145.0</td>\n",
       "      <td>8.573942e+04</td>\n",
       "      <td>566.0</td>\n",
       "      <td>4.370286e+05</td>\n",
       "      <td>392.0</td>\n",
       "      <td>1</td>\n",
       "      <td>1</td>\n",
       "    </tr>\n",
       "    <tr>\n",
       "      <th>483</th>\n",
       "      <td>140.125000</td>\n",
       "      <td>220.306263</td>\n",
       "      <td>763.0</td>\n",
       "      <td>89.500000</td>\n",
       "      <td>4.0</td>\n",
       "      <td>358.0</td>\n",
       "      <td>7.269101e+05</td>\n",
       "      <td>358.0</td>\n",
       "      <td>4.872589e+04</td>\n",
       "      <td>136.0</td>\n",
       "      <td>1</td>\n",
       "      <td>1</td>\n",
       "    </tr>\n",
       "    <tr>\n",
       "      <th>484</th>\n",
       "      <td>549.319149</td>\n",
       "      <td>1206.155288</td>\n",
       "      <td>2896.0</td>\n",
       "      <td>211.678571</td>\n",
       "      <td>705.0</td>\n",
       "      <td>5927.0</td>\n",
       "      <td>4.653305e+05</td>\n",
       "      <td>561.0</td>\n",
       "      <td>1.474704e+06</td>\n",
       "      <td>904.0</td>\n",
       "      <td>1</td>\n",
       "      <td>1</td>\n",
       "    </tr>\n",
       "    <tr>\n",
       "      <th>486</th>\n",
       "      <td>0.000000</td>\n",
       "      <td>0.000000</td>\n",
       "      <td>0.0</td>\n",
       "      <td>0.000000</td>\n",
       "      <td>0.0</td>\n",
       "      <td>0.0</td>\n",
       "      <td>6.600000e+01</td>\n",
       "      <td>0.0</td>\n",
       "      <td>0.000000e+00</td>\n",
       "      <td>32.0</td>\n",
       "      <td>1</td>\n",
       "      <td>1</td>\n",
       "    </tr>\n",
       "    <tr>\n",
       "      <th>504</th>\n",
       "      <td>0.000000</td>\n",
       "      <td>0.000000</td>\n",
       "      <td>0.0</td>\n",
       "      <td>0.000000</td>\n",
       "      <td>0.0</td>\n",
       "      <td>0.0</td>\n",
       "      <td>5.000000e+01</td>\n",
       "      <td>0.0</td>\n",
       "      <td>0.000000e+00</td>\n",
       "      <td>32.0</td>\n",
       "      <td>0</td>\n",
       "      <td>1</td>\n",
       "    </tr>\n",
       "    <tr>\n",
       "      <th>508</th>\n",
       "      <td>0.000000</td>\n",
       "      <td>0.000000</td>\n",
       "      <td>0.0</td>\n",
       "      <td>0.000000</td>\n",
       "      <td>632.0</td>\n",
       "      <td>0.0</td>\n",
       "      <td>1.350099e+06</td>\n",
       "      <td>0.0</td>\n",
       "      <td>2.863098e+06</td>\n",
       "      <td>104.0</td>\n",
       "      <td>1</td>\n",
       "      <td>1</td>\n",
       "    </tr>\n",
       "    <tr>\n",
       "      <th>509</th>\n",
       "      <td>508.023256</td>\n",
       "      <td>5277.457273</td>\n",
       "      <td>7926.0</td>\n",
       "      <td>177.814815</td>\n",
       "      <td>250.0</td>\n",
       "      <td>4801.0</td>\n",
       "      <td>9.855486e+04</td>\n",
       "      <td>602.0</td>\n",
       "      <td>4.109942e+05</td>\n",
       "      <td>872.0</td>\n",
       "      <td>1</td>\n",
       "      <td>1</td>\n",
       "    </tr>\n",
       "    <tr>\n",
       "      <th>510</th>\n",
       "      <td>0.000000</td>\n",
       "      <td>0.000000</td>\n",
       "      <td>0.0</td>\n",
       "      <td>0.000000</td>\n",
       "      <td>842.0</td>\n",
       "      <td>0.0</td>\n",
       "      <td>1.177770e+06</td>\n",
       "      <td>0.0</td>\n",
       "      <td>2.497237e+06</td>\n",
       "      <td>104.0</td>\n",
       "      <td>1</td>\n",
       "      <td>1</td>\n",
       "    </tr>\n",
       "    <tr>\n",
       "      <th>511</th>\n",
       "      <td>0.000000</td>\n",
       "      <td>0.000000</td>\n",
       "      <td>0.0</td>\n",
       "      <td>0.000000</td>\n",
       "      <td>962.0</td>\n",
       "      <td>0.0</td>\n",
       "      <td>1.177897e+06</td>\n",
       "      <td>0.0</td>\n",
       "      <td>2.497337e+06</td>\n",
       "      <td>104.0</td>\n",
       "      <td>1</td>\n",
       "      <td>1</td>\n",
       "    </tr>\n",
       "    <tr>\n",
       "      <th>588</th>\n",
       "      <td>0.000000</td>\n",
       "      <td>0.000000</td>\n",
       "      <td>0.0</td>\n",
       "      <td>0.000000</td>\n",
       "      <td>743.0</td>\n",
       "      <td>0.0</td>\n",
       "      <td>1.845963e+06</td>\n",
       "      <td>0.0</td>\n",
       "      <td>3.914828e+06</td>\n",
       "      <td>104.0</td>\n",
       "      <td>1</td>\n",
       "      <td>1</td>\n",
       "    </tr>\n",
       "    <tr>\n",
       "      <th>589</th>\n",
       "      <td>0.000000</td>\n",
       "      <td>0.000000</td>\n",
       "      <td>0.0</td>\n",
       "      <td>0.000000</td>\n",
       "      <td>744.0</td>\n",
       "      <td>0.0</td>\n",
       "      <td>1.845958e+06</td>\n",
       "      <td>0.0</td>\n",
       "      <td>3.914816e+06</td>\n",
       "      <td>104.0</td>\n",
       "      <td>1</td>\n",
       "      <td>1</td>\n",
       "    </tr>\n",
       "    <tr>\n",
       "      <th>590</th>\n",
       "      <td>0.000000</td>\n",
       "      <td>0.000000</td>\n",
       "      <td>0.0</td>\n",
       "      <td>0.000000</td>\n",
       "      <td>614.0</td>\n",
       "      <td>0.0</td>\n",
       "      <td>1.982412e+06</td>\n",
       "      <td>0.0</td>\n",
       "      <td>4.204463e+06</td>\n",
       "      <td>104.0</td>\n",
       "      <td>1</td>\n",
       "      <td>1</td>\n",
       "    </tr>\n",
       "    <tr>\n",
       "      <th>591</th>\n",
       "      <td>428.365079</td>\n",
       "      <td>2588.955720</td>\n",
       "      <td>7240.0</td>\n",
       "      <td>204.759036</td>\n",
       "      <td>274.0</td>\n",
       "      <td>16995.0</td>\n",
       "      <td>1.667823e+05</td>\n",
       "      <td>602.0</td>\n",
       "      <td>5.991718e+05</td>\n",
       "      <td>2664.0</td>\n",
       "      <td>1</td>\n",
       "      <td>1</td>\n",
       "    </tr>\n",
       "    <tr>\n",
       "      <th>592</th>\n",
       "      <td>0.000000</td>\n",
       "      <td>0.000000</td>\n",
       "      <td>0.0</td>\n",
       "      <td>0.000000</td>\n",
       "      <td>867.0</td>\n",
       "      <td>0.0</td>\n",
       "      <td>1.949402e+06</td>\n",
       "      <td>0.0</td>\n",
       "      <td>4.134080e+06</td>\n",
       "      <td>104.0</td>\n",
       "      <td>1</td>\n",
       "      <td>1</td>\n",
       "    </tr>\n",
       "    <tr>\n",
       "      <th>593</th>\n",
       "      <td>0.000000</td>\n",
       "      <td>0.000000</td>\n",
       "      <td>0.0</td>\n",
       "      <td>0.000000</td>\n",
       "      <td>703.0</td>\n",
       "      <td>0.0</td>\n",
       "      <td>1.862511e+06</td>\n",
       "      <td>0.0</td>\n",
       "      <td>3.949988e+06</td>\n",
       "      <td>104.0</td>\n",
       "      <td>1</td>\n",
       "      <td>1</td>\n",
       "    </tr>\n",
       "    <tr>\n",
       "      <th>595</th>\n",
       "      <td>0.000000</td>\n",
       "      <td>0.000000</td>\n",
       "      <td>0.0</td>\n",
       "      <td>0.000000</td>\n",
       "      <td>706.0</td>\n",
       "      <td>0.0</td>\n",
       "      <td>1.764813e+06</td>\n",
       "      <td>0.0</td>\n",
       "      <td>3.742735e+06</td>\n",
       "      <td>104.0</td>\n",
       "      <td>1</td>\n",
       "      <td>1</td>\n",
       "    </tr>\n",
       "    <tr>\n",
       "      <th>597</th>\n",
       "      <td>0.000000</td>\n",
       "      <td>0.000000</td>\n",
       "      <td>0.0</td>\n",
       "      <td>0.000000</td>\n",
       "      <td>710.0</td>\n",
       "      <td>0.0</td>\n",
       "      <td>1.292165e+06</td>\n",
       "      <td>0.0</td>\n",
       "      <td>2.740091e+06</td>\n",
       "      <td>104.0</td>\n",
       "      <td>1</td>\n",
       "      <td>1</td>\n",
       "    </tr>\n",
       "    <tr>\n",
       "      <th>598</th>\n",
       "      <td>0.000000</td>\n",
       "      <td>0.000000</td>\n",
       "      <td>0.0</td>\n",
       "      <td>0.000000</td>\n",
       "      <td>879.0</td>\n",
       "      <td>0.0</td>\n",
       "      <td>5.319660e+05</td>\n",
       "      <td>0.0</td>\n",
       "      <td>1.127227e+06</td>\n",
       "      <td>104.0</td>\n",
       "      <td>1</td>\n",
       "      <td>1</td>\n",
       "    </tr>\n",
       "    <tr>\n",
       "      <th>604</th>\n",
       "      <td>401.478964</td>\n",
       "      <td>3940.159328</td>\n",
       "      <td>5792.0</td>\n",
       "      <td>213.348039</td>\n",
       "      <td>3.0</td>\n",
       "      <td>43523.0</td>\n",
       "      <td>1.022249e+05</td>\n",
       "      <td>602.0</td>\n",
       "      <td>3.117663e+05</td>\n",
       "      <td>6536.0</td>\n",
       "      <td>1</td>\n",
       "      <td>1</td>\n",
       "    </tr>\n",
       "    <tr>\n",
       "      <th>607</th>\n",
       "      <td>0.000000</td>\n",
       "      <td>0.000000</td>\n",
       "      <td>0.0</td>\n",
       "      <td>0.000000</td>\n",
       "      <td>807.0</td>\n",
       "      <td>0.0</td>\n",
       "      <td>1.862601e+06</td>\n",
       "      <td>0.0</td>\n",
       "      <td>3.950033e+06</td>\n",
       "      <td>104.0</td>\n",
       "      <td>1</td>\n",
       "      <td>1</td>\n",
       "    </tr>\n",
       "    <tr>\n",
       "      <th>608</th>\n",
       "      <td>0.000000</td>\n",
       "      <td>0.000000</td>\n",
       "      <td>0.0</td>\n",
       "      <td>0.000000</td>\n",
       "      <td>683.0</td>\n",
       "      <td>0.0</td>\n",
       "      <td>1.865859e+06</td>\n",
       "      <td>0.0</td>\n",
       "      <td>3.957119e+06</td>\n",
       "      <td>104.0</td>\n",
       "      <td>1</td>\n",
       "      <td>1</td>\n",
       "    </tr>\n",
       "    <tr>\n",
       "      <th>613</th>\n",
       "      <td>0.000000</td>\n",
       "      <td>0.000000</td>\n",
       "      <td>0.0</td>\n",
       "      <td>0.000000</td>\n",
       "      <td>661.0</td>\n",
       "      <td>0.0</td>\n",
       "      <td>1.918843e+06</td>\n",
       "      <td>0.0</td>\n",
       "      <td>4.069545e+06</td>\n",
       "      <td>104.0</td>\n",
       "      <td>1</td>\n",
       "      <td>1</td>\n",
       "    </tr>\n",
       "    <tr>\n",
       "      <th>616</th>\n",
       "      <td>0.000000</td>\n",
       "      <td>0.000000</td>\n",
       "      <td>0.0</td>\n",
       "      <td>0.000000</td>\n",
       "      <td>871.0</td>\n",
       "      <td>0.0</td>\n",
       "      <td>1.819138e+06</td>\n",
       "      <td>0.0</td>\n",
       "      <td>3.857743e+06</td>\n",
       "      <td>104.0</td>\n",
       "      <td>1</td>\n",
       "      <td>1</td>\n",
       "    </tr>\n",
       "    <tr>\n",
       "      <th>...</th>\n",
       "      <td>...</td>\n",
       "      <td>...</td>\n",
       "      <td>...</td>\n",
       "      <td>...</td>\n",
       "      <td>...</td>\n",
       "      <td>...</td>\n",
       "      <td>...</td>\n",
       "      <td>...</td>\n",
       "      <td>...</td>\n",
       "      <td>...</td>\n",
       "      <td>...</td>\n",
       "      <td>...</td>\n",
       "    </tr>\n",
       "    <tr>\n",
       "      <th>5102</th>\n",
       "      <td>131.625000</td>\n",
       "      <td>210.219880</td>\n",
       "      <td>530.0</td>\n",
       "      <td>130.750000</td>\n",
       "      <td>49.0</td>\n",
       "      <td>523.0</td>\n",
       "      <td>7.155773e+05</td>\n",
       "      <td>523.0</td>\n",
       "      <td>1.734431e+03</td>\n",
       "      <td>136.0</td>\n",
       "      <td>1</td>\n",
       "      <td>1</td>\n",
       "    </tr>\n",
       "    <tr>\n",
       "      <th>5104</th>\n",
       "      <td>0.000000</td>\n",
       "      <td>0.000000</td>\n",
       "      <td>0.0</td>\n",
       "      <td>0.000000</td>\n",
       "      <td>0.0</td>\n",
       "      <td>0.0</td>\n",
       "      <td>7.100000e+01</td>\n",
       "      <td>0.0</td>\n",
       "      <td>0.000000e+00</td>\n",
       "      <td>32.0</td>\n",
       "      <td>1</td>\n",
       "      <td>1</td>\n",
       "    </tr>\n",
       "    <tr>\n",
       "      <th>5126</th>\n",
       "      <td>297.000000</td>\n",
       "      <td>474.282453</td>\n",
       "      <td>1840.0</td>\n",
       "      <td>134.000000</td>\n",
       "      <td>49.0</td>\n",
       "      <td>536.0</td>\n",
       "      <td>7.156676e+05</td>\n",
       "      <td>536.0</td>\n",
       "      <td>2.216452e+03</td>\n",
       "      <td>136.0</td>\n",
       "      <td>1</td>\n",
       "      <td>1</td>\n",
       "    </tr>\n",
       "    <tr>\n",
       "      <th>5128</th>\n",
       "      <td>0.000000</td>\n",
       "      <td>0.000000</td>\n",
       "      <td>0.0</td>\n",
       "      <td>0.000000</td>\n",
       "      <td>0.0</td>\n",
       "      <td>0.0</td>\n",
       "      <td>7.300000e+01</td>\n",
       "      <td>0.0</td>\n",
       "      <td>0.000000e+00</td>\n",
       "      <td>32.0</td>\n",
       "      <td>1</td>\n",
       "      <td>1</td>\n",
       "    </tr>\n",
       "    <tr>\n",
       "      <th>5130</th>\n",
       "      <td>302.250000</td>\n",
       "      <td>482.879544</td>\n",
       "      <td>1881.0</td>\n",
       "      <td>107.400000</td>\n",
       "      <td>4.0</td>\n",
       "      <td>537.0</td>\n",
       "      <td>7.153514e+05</td>\n",
       "      <td>537.0</td>\n",
       "      <td>2.499207e+06</td>\n",
       "      <td>168.0</td>\n",
       "      <td>1</td>\n",
       "      <td>1</td>\n",
       "    </tr>\n",
       "    <tr>\n",
       "      <th>5136</th>\n",
       "      <td>474.900000</td>\n",
       "      <td>947.435391</td>\n",
       "      <td>2701.0</td>\n",
       "      <td>100.000000</td>\n",
       "      <td>3.0</td>\n",
       "      <td>600.0</td>\n",
       "      <td>5.569421e+05</td>\n",
       "      <td>600.0</td>\n",
       "      <td>2.234767e+06</td>\n",
       "      <td>200.0</td>\n",
       "      <td>1</td>\n",
       "      <td>1</td>\n",
       "    </tr>\n",
       "    <tr>\n",
       "      <th>5147</th>\n",
       "      <td>327.500000</td>\n",
       "      <td>523.435945</td>\n",
       "      <td>2021.0</td>\n",
       "      <td>119.800000</td>\n",
       "      <td>4.0</td>\n",
       "      <td>599.0</td>\n",
       "      <td>7.150554e+05</td>\n",
       "      <td>599.0</td>\n",
       "      <td>2.499199e+06</td>\n",
       "      <td>168.0</td>\n",
       "      <td>1</td>\n",
       "      <td>1</td>\n",
       "    </tr>\n",
       "    <tr>\n",
       "      <th>5150</th>\n",
       "      <td>474.800000</td>\n",
       "      <td>946.427763</td>\n",
       "      <td>2701.0</td>\n",
       "      <td>119.800000</td>\n",
       "      <td>4.0</td>\n",
       "      <td>599.0</td>\n",
       "      <td>5.574177e+05</td>\n",
       "      <td>599.0</td>\n",
       "      <td>5.465625e+03</td>\n",
       "      <td>168.0</td>\n",
       "      <td>1</td>\n",
       "      <td>1</td>\n",
       "    </tr>\n",
       "    <tr>\n",
       "      <th>5161</th>\n",
       "      <td>327.500000</td>\n",
       "      <td>523.041474</td>\n",
       "      <td>2021.0</td>\n",
       "      <td>149.750000</td>\n",
       "      <td>343.0</td>\n",
       "      <td>599.0</td>\n",
       "      <td>7.155947e+05</td>\n",
       "      <td>599.0</td>\n",
       "      <td>2.252041e+03</td>\n",
       "      <td>136.0</td>\n",
       "      <td>1</td>\n",
       "      <td>1</td>\n",
       "    </tr>\n",
       "    <tr>\n",
       "      <th>5162</th>\n",
       "      <td>0.000000</td>\n",
       "      <td>0.000000</td>\n",
       "      <td>0.0</td>\n",
       "      <td>0.000000</td>\n",
       "      <td>0.0</td>\n",
       "      <td>0.0</td>\n",
       "      <td>7.300000e+01</td>\n",
       "      <td>0.0</td>\n",
       "      <td>0.000000e+00</td>\n",
       "      <td>32.0</td>\n",
       "      <td>1</td>\n",
       "      <td>1</td>\n",
       "    </tr>\n",
       "    <tr>\n",
       "      <th>5163</th>\n",
       "      <td>0.000000</td>\n",
       "      <td>0.000000</td>\n",
       "      <td>0.0</td>\n",
       "      <td>0.000000</td>\n",
       "      <td>0.0</td>\n",
       "      <td>0.0</td>\n",
       "      <td>1.090000e+02</td>\n",
       "      <td>0.0</td>\n",
       "      <td>0.000000e+00</td>\n",
       "      <td>32.0</td>\n",
       "      <td>1</td>\n",
       "      <td>1</td>\n",
       "    </tr>\n",
       "    <tr>\n",
       "      <th>5210</th>\n",
       "      <td>0.000000</td>\n",
       "      <td>0.000000</td>\n",
       "      <td>0.0</td>\n",
       "      <td>0.000000</td>\n",
       "      <td>0.0</td>\n",
       "      <td>0.0</td>\n",
       "      <td>4.200000e+01</td>\n",
       "      <td>0.0</td>\n",
       "      <td>0.000000e+00</td>\n",
       "      <td>32.0</td>\n",
       "      <td>0</td>\n",
       "      <td>1</td>\n",
       "    </tr>\n",
       "    <tr>\n",
       "      <th>5505</th>\n",
       "      <td>0.000000</td>\n",
       "      <td>0.000000</td>\n",
       "      <td>0.0</td>\n",
       "      <td>0.000000</td>\n",
       "      <td>0.0</td>\n",
       "      <td>0.0</td>\n",
       "      <td>9.600000e+01</td>\n",
       "      <td>0.0</td>\n",
       "      <td>0.000000e+00</td>\n",
       "      <td>32.0</td>\n",
       "      <td>0</td>\n",
       "      <td>1</td>\n",
       "    </tr>\n",
       "    <tr>\n",
       "      <th>5701</th>\n",
       "      <td>0.000000</td>\n",
       "      <td>0.000000</td>\n",
       "      <td>0.0</td>\n",
       "      <td>0.000000</td>\n",
       "      <td>0.0</td>\n",
       "      <td>0.0</td>\n",
       "      <td>5.000000e+01</td>\n",
       "      <td>0.0</td>\n",
       "      <td>0.000000e+00</td>\n",
       "      <td>32.0</td>\n",
       "      <td>0</td>\n",
       "      <td>1</td>\n",
       "    </tr>\n",
       "    <tr>\n",
       "      <th>5873</th>\n",
       "      <td>0.000000</td>\n",
       "      <td>0.000000</td>\n",
       "      <td>0.0</td>\n",
       "      <td>0.000000</td>\n",
       "      <td>0.0</td>\n",
       "      <td>0.0</td>\n",
       "      <td>3.300000e+01</td>\n",
       "      <td>0.0</td>\n",
       "      <td>0.000000e+00</td>\n",
       "      <td>32.0</td>\n",
       "      <td>0</td>\n",
       "      <td>1</td>\n",
       "    </tr>\n",
       "    <tr>\n",
       "      <th>5902</th>\n",
       "      <td>0.000000</td>\n",
       "      <td>0.000000</td>\n",
       "      <td>0.0</td>\n",
       "      <td>0.000000</td>\n",
       "      <td>0.0</td>\n",
       "      <td>0.0</td>\n",
       "      <td>5.000000e+01</td>\n",
       "      <td>0.0</td>\n",
       "      <td>0.000000e+00</td>\n",
       "      <td>32.0</td>\n",
       "      <td>0</td>\n",
       "      <td>1</td>\n",
       "    </tr>\n",
       "    <tr>\n",
       "      <th>6016</th>\n",
       "      <td>0.000000</td>\n",
       "      <td>0.000000</td>\n",
       "      <td>0.0</td>\n",
       "      <td>0.000000</td>\n",
       "      <td>0.0</td>\n",
       "      <td>0.0</td>\n",
       "      <td>5.000000e+01</td>\n",
       "      <td>0.0</td>\n",
       "      <td>0.000000e+00</td>\n",
       "      <td>32.0</td>\n",
       "      <td>0</td>\n",
       "      <td>1</td>\n",
       "    </tr>\n",
       "    <tr>\n",
       "      <th>6327</th>\n",
       "      <td>0.000000</td>\n",
       "      <td>0.000000</td>\n",
       "      <td>0.0</td>\n",
       "      <td>0.000000</td>\n",
       "      <td>0.0</td>\n",
       "      <td>0.0</td>\n",
       "      <td>7.800000e+01</td>\n",
       "      <td>0.0</td>\n",
       "      <td>0.000000e+00</td>\n",
       "      <td>32.0</td>\n",
       "      <td>0</td>\n",
       "      <td>1</td>\n",
       "    </tr>\n",
       "    <tr>\n",
       "      <th>6631</th>\n",
       "      <td>0.000000</td>\n",
       "      <td>0.000000</td>\n",
       "      <td>0.0</td>\n",
       "      <td>0.000000</td>\n",
       "      <td>0.0</td>\n",
       "      <td>0.0</td>\n",
       "      <td>5.100000e+01</td>\n",
       "      <td>0.0</td>\n",
       "      <td>0.000000e+00</td>\n",
       "      <td>32.0</td>\n",
       "      <td>0</td>\n",
       "      <td>1</td>\n",
       "    </tr>\n",
       "    <tr>\n",
       "      <th>6748</th>\n",
       "      <td>0.000000</td>\n",
       "      <td>0.000000</td>\n",
       "      <td>0.0</td>\n",
       "      <td>0.000000</td>\n",
       "      <td>0.0</td>\n",
       "      <td>0.0</td>\n",
       "      <td>7.400000e+01</td>\n",
       "      <td>0.0</td>\n",
       "      <td>0.000000e+00</td>\n",
       "      <td>32.0</td>\n",
       "      <td>0</td>\n",
       "      <td>1</td>\n",
       "    </tr>\n",
       "    <tr>\n",
       "      <th>6757</th>\n",
       "      <td>0.000000</td>\n",
       "      <td>0.000000</td>\n",
       "      <td>0.0</td>\n",
       "      <td>0.000000</td>\n",
       "      <td>0.0</td>\n",
       "      <td>0.0</td>\n",
       "      <td>3.300000e+01</td>\n",
       "      <td>0.0</td>\n",
       "      <td>0.000000e+00</td>\n",
       "      <td>32.0</td>\n",
       "      <td>0</td>\n",
       "      <td>1</td>\n",
       "    </tr>\n",
       "    <tr>\n",
       "      <th>6758</th>\n",
       "      <td>0.000000</td>\n",
       "      <td>0.000000</td>\n",
       "      <td>0.0</td>\n",
       "      <td>0.000000</td>\n",
       "      <td>0.0</td>\n",
       "      <td>0.0</td>\n",
       "      <td>4.200000e+01</td>\n",
       "      <td>0.0</td>\n",
       "      <td>0.000000e+00</td>\n",
       "      <td>32.0</td>\n",
       "      <td>0</td>\n",
       "      <td>1</td>\n",
       "    </tr>\n",
       "    <tr>\n",
       "      <th>6845</th>\n",
       "      <td>0.000000</td>\n",
       "      <td>0.000000</td>\n",
       "      <td>0.0</td>\n",
       "      <td>0.000000</td>\n",
       "      <td>0.0</td>\n",
       "      <td>0.0</td>\n",
       "      <td>5.100000e+01</td>\n",
       "      <td>0.0</td>\n",
       "      <td>0.000000e+00</td>\n",
       "      <td>32.0</td>\n",
       "      <td>0</td>\n",
       "      <td>1</td>\n",
       "    </tr>\n",
       "    <tr>\n",
       "      <th>6853</th>\n",
       "      <td>0.000000</td>\n",
       "      <td>0.000000</td>\n",
       "      <td>0.0</td>\n",
       "      <td>0.000000</td>\n",
       "      <td>0.0</td>\n",
       "      <td>0.0</td>\n",
       "      <td>7.400000e+01</td>\n",
       "      <td>0.0</td>\n",
       "      <td>0.000000e+00</td>\n",
       "      <td>32.0</td>\n",
       "      <td>0</td>\n",
       "      <td>1</td>\n",
       "    </tr>\n",
       "    <tr>\n",
       "      <th>6906</th>\n",
       "      <td>0.000000</td>\n",
       "      <td>0.000000</td>\n",
       "      <td>0.0</td>\n",
       "      <td>0.000000</td>\n",
       "      <td>0.0</td>\n",
       "      <td>0.0</td>\n",
       "      <td>8.200000e+01</td>\n",
       "      <td>0.0</td>\n",
       "      <td>0.000000e+00</td>\n",
       "      <td>32.0</td>\n",
       "      <td>0</td>\n",
       "      <td>1</td>\n",
       "    </tr>\n",
       "    <tr>\n",
       "      <th>6960</th>\n",
       "      <td>0.000000</td>\n",
       "      <td>0.000000</td>\n",
       "      <td>0.0</td>\n",
       "      <td>0.000000</td>\n",
       "      <td>0.0</td>\n",
       "      <td>0.0</td>\n",
       "      <td>3.400000e+01</td>\n",
       "      <td>0.0</td>\n",
       "      <td>0.000000e+00</td>\n",
       "      <td>32.0</td>\n",
       "      <td>0</td>\n",
       "      <td>1</td>\n",
       "    </tr>\n",
       "    <tr>\n",
       "      <th>6974</th>\n",
       "      <td>0.000000</td>\n",
       "      <td>0.000000</td>\n",
       "      <td>0.0</td>\n",
       "      <td>0.000000</td>\n",
       "      <td>0.0</td>\n",
       "      <td>0.0</td>\n",
       "      <td>7.800000e+01</td>\n",
       "      <td>0.0</td>\n",
       "      <td>0.000000e+00</td>\n",
       "      <td>32.0</td>\n",
       "      <td>0</td>\n",
       "      <td>1</td>\n",
       "    </tr>\n",
       "    <tr>\n",
       "      <th>7100</th>\n",
       "      <td>0.000000</td>\n",
       "      <td>0.000000</td>\n",
       "      <td>0.0</td>\n",
       "      <td>0.000000</td>\n",
       "      <td>0.0</td>\n",
       "      <td>0.0</td>\n",
       "      <td>6.000000e+01</td>\n",
       "      <td>0.0</td>\n",
       "      <td>0.000000e+00</td>\n",
       "      <td>32.0</td>\n",
       "      <td>0</td>\n",
       "      <td>1</td>\n",
       "    </tr>\n",
       "    <tr>\n",
       "      <th>7253</th>\n",
       "      <td>0.000000</td>\n",
       "      <td>0.000000</td>\n",
       "      <td>0.0</td>\n",
       "      <td>0.000000</td>\n",
       "      <td>0.0</td>\n",
       "      <td>0.0</td>\n",
       "      <td>7.500000e+01</td>\n",
       "      <td>0.0</td>\n",
       "      <td>0.000000e+00</td>\n",
       "      <td>32.0</td>\n",
       "      <td>0</td>\n",
       "      <td>1</td>\n",
       "    </tr>\n",
       "    <tr>\n",
       "      <th>7264</th>\n",
       "      <td>0.000000</td>\n",
       "      <td>0.000000</td>\n",
       "      <td>0.0</td>\n",
       "      <td>0.000000</td>\n",
       "      <td>0.0</td>\n",
       "      <td>0.0</td>\n",
       "      <td>1.463344e+06</td>\n",
       "      <td>0.0</td>\n",
       "      <td>3.538345e+06</td>\n",
       "      <td>0.0</td>\n",
       "      <td>0</td>\n",
       "      <td>1</td>\n",
       "    </tr>\n",
       "  </tbody>\n",
       "</table>\n",
       "<p>2165 rows × 12 columns</p>\n",
       "</div>"
      ],
      "text/plain": [
       "      Average Packet Size  Flow Bytes/s  Max Packet Length  \\\n",
       "159              0.000000      0.000000                0.0   \n",
       "181              0.000000      0.000000                0.0   \n",
       "252              0.000000      0.000000                0.0   \n",
       "404            238.785714    644.729782             1047.0   \n",
       "407              0.000000      0.000000                0.0   \n",
       "409            199.916667    455.121233             1066.0   \n",
       "411            218.454545    478.624430             1066.0   \n",
       "482            618.150000   7589.090322             5330.0   \n",
       "483            140.125000    220.306263              763.0   \n",
       "484            549.319149   1206.155288             2896.0   \n",
       "486              0.000000      0.000000                0.0   \n",
       "504              0.000000      0.000000                0.0   \n",
       "508              0.000000      0.000000                0.0   \n",
       "509            508.023256   5277.457273             7926.0   \n",
       "510              0.000000      0.000000                0.0   \n",
       "511              0.000000      0.000000                0.0   \n",
       "588              0.000000      0.000000                0.0   \n",
       "589              0.000000      0.000000                0.0   \n",
       "590              0.000000      0.000000                0.0   \n",
       "591            428.365079   2588.955720             7240.0   \n",
       "592              0.000000      0.000000                0.0   \n",
       "593              0.000000      0.000000                0.0   \n",
       "595              0.000000      0.000000                0.0   \n",
       "597              0.000000      0.000000                0.0   \n",
       "598              0.000000      0.000000                0.0   \n",
       "604            401.478964   3940.159328             5792.0   \n",
       "607              0.000000      0.000000                0.0   \n",
       "608              0.000000      0.000000                0.0   \n",
       "613              0.000000      0.000000                0.0   \n",
       "616              0.000000      0.000000                0.0   \n",
       "...                   ...           ...                ...   \n",
       "5102           131.625000    210.219880              530.0   \n",
       "5104             0.000000      0.000000                0.0   \n",
       "5126           297.000000    474.282453             1840.0   \n",
       "5128             0.000000      0.000000                0.0   \n",
       "5130           302.250000    482.879544             1881.0   \n",
       "5136           474.900000    947.435391             2701.0   \n",
       "5147           327.500000    523.435945             2021.0   \n",
       "5150           474.800000    946.427763             2701.0   \n",
       "5161           327.500000    523.041474             2021.0   \n",
       "5162             0.000000      0.000000                0.0   \n",
       "5163             0.000000      0.000000                0.0   \n",
       "5210             0.000000      0.000000                0.0   \n",
       "5505             0.000000      0.000000                0.0   \n",
       "5701             0.000000      0.000000                0.0   \n",
       "5873             0.000000      0.000000                0.0   \n",
       "5902             0.000000      0.000000                0.0   \n",
       "6016             0.000000      0.000000                0.0   \n",
       "6327             0.000000      0.000000                0.0   \n",
       "6631             0.000000      0.000000                0.0   \n",
       "6748             0.000000      0.000000                0.0   \n",
       "6757             0.000000      0.000000                0.0   \n",
       "6758             0.000000      0.000000                0.0   \n",
       "6845             0.000000      0.000000                0.0   \n",
       "6853             0.000000      0.000000                0.0   \n",
       "6906             0.000000      0.000000                0.0   \n",
       "6960             0.000000      0.000000                0.0   \n",
       "6974             0.000000      0.000000                0.0   \n",
       "7100             0.000000      0.000000                0.0   \n",
       "7253             0.000000      0.000000                0.0   \n",
       "7264             0.000000      0.000000                0.0   \n",
       "\n",
       "      Fwd Packet Length Mean  Fwd IAT Min  Total Length of Fwd Packets  \\\n",
       "159                 0.000000          0.0                          0.0   \n",
       "181                 0.000000          0.0                          0.0   \n",
       "252                 0.000000          0.0                          0.0   \n",
       "404               146.000000          4.0                       1022.0   \n",
       "407                 0.000000          0.0                          0.0   \n",
       "409               138.428571        323.0                        969.0   \n",
       "411               139.000000         18.0                        973.0   \n",
       "482               178.750000        195.0                       2145.0   \n",
       "483                89.500000          4.0                        358.0   \n",
       "484               211.678571        705.0                       5927.0   \n",
       "486                 0.000000          0.0                          0.0   \n",
       "504                 0.000000          0.0                          0.0   \n",
       "508                 0.000000        632.0                          0.0   \n",
       "509               177.814815        250.0                       4801.0   \n",
       "510                 0.000000        842.0                          0.0   \n",
       "511                 0.000000        962.0                          0.0   \n",
       "588                 0.000000        743.0                          0.0   \n",
       "589                 0.000000        744.0                          0.0   \n",
       "590                 0.000000        614.0                          0.0   \n",
       "591               204.759036        274.0                      16995.0   \n",
       "592                 0.000000        867.0                          0.0   \n",
       "593                 0.000000        703.0                          0.0   \n",
       "595                 0.000000        706.0                          0.0   \n",
       "597                 0.000000        710.0                          0.0   \n",
       "598                 0.000000        879.0                          0.0   \n",
       "604               213.348039          3.0                      43523.0   \n",
       "607                 0.000000        807.0                          0.0   \n",
       "608                 0.000000        683.0                          0.0   \n",
       "613                 0.000000        661.0                          0.0   \n",
       "616                 0.000000        871.0                          0.0   \n",
       "...                      ...          ...                          ...   \n",
       "5102              130.750000         49.0                        523.0   \n",
       "5104                0.000000          0.0                          0.0   \n",
       "5126              134.000000         49.0                        536.0   \n",
       "5128                0.000000          0.0                          0.0   \n",
       "5130              107.400000          4.0                        537.0   \n",
       "5136              100.000000          3.0                        600.0   \n",
       "5147              119.800000          4.0                        599.0   \n",
       "5150              119.800000          4.0                        599.0   \n",
       "5161              149.750000        343.0                        599.0   \n",
       "5162                0.000000          0.0                          0.0   \n",
       "5163                0.000000          0.0                          0.0   \n",
       "5210                0.000000          0.0                          0.0   \n",
       "5505                0.000000          0.0                          0.0   \n",
       "5701                0.000000          0.0                          0.0   \n",
       "5873                0.000000          0.0                          0.0   \n",
       "5902                0.000000          0.0                          0.0   \n",
       "6016                0.000000          0.0                          0.0   \n",
       "6327                0.000000          0.0                          0.0   \n",
       "6631                0.000000          0.0                          0.0   \n",
       "6748                0.000000          0.0                          0.0   \n",
       "6757                0.000000          0.0                          0.0   \n",
       "6758                0.000000          0.0                          0.0   \n",
       "6845                0.000000          0.0                          0.0   \n",
       "6853                0.000000          0.0                          0.0   \n",
       "6906                0.000000          0.0                          0.0   \n",
       "6960                0.000000          0.0                          0.0   \n",
       "6974                0.000000          0.0                          0.0   \n",
       "7100                0.000000          0.0                          0.0   \n",
       "7253                0.000000          0.0                          0.0   \n",
       "7264                0.000000          0.0                          0.0   \n",
       "\n",
       "      Flow IAT Mean  Fwd Packet Length Max   Fwd IAT Std  Fwd Header Length  \\\n",
       "159    5.100000e+01                    0.0  0.000000e+00               32.0   \n",
       "181    4.500000e+01                    0.0  0.000000e+00               32.0   \n",
       "252    5.100000e+01                    0.0  0.000000e+00               32.0   \n",
       "404    3.988552e+05                  372.0  5.614102e+04              232.0   \n",
       "407    8.100000e+01                    0.0  0.000000e+00               32.0   \n",
       "409    4.791930e+05                  561.0  2.003103e+06              232.0   \n",
       "411    5.020638e+05                  565.0  2.021330e+06              232.0   \n",
       "482    8.573942e+04                  566.0  4.370286e+05              392.0   \n",
       "483    7.269101e+05                  358.0  4.872589e+04              136.0   \n",
       "484    4.653305e+05                  561.0  1.474704e+06              904.0   \n",
       "486    6.600000e+01                    0.0  0.000000e+00               32.0   \n",
       "504    5.000000e+01                    0.0  0.000000e+00               32.0   \n",
       "508    1.350099e+06                    0.0  2.863098e+06              104.0   \n",
       "509    9.855486e+04                  602.0  4.109942e+05              872.0   \n",
       "510    1.177770e+06                    0.0  2.497237e+06              104.0   \n",
       "511    1.177897e+06                    0.0  2.497337e+06              104.0   \n",
       "588    1.845963e+06                    0.0  3.914828e+06              104.0   \n",
       "589    1.845958e+06                    0.0  3.914816e+06              104.0   \n",
       "590    1.982412e+06                    0.0  4.204463e+06              104.0   \n",
       "591    1.667823e+05                  602.0  5.991718e+05             2664.0   \n",
       "592    1.949402e+06                    0.0  4.134080e+06              104.0   \n",
       "593    1.862511e+06                    0.0  3.949988e+06              104.0   \n",
       "595    1.764813e+06                    0.0  3.742735e+06              104.0   \n",
       "597    1.292165e+06                    0.0  2.740091e+06              104.0   \n",
       "598    5.319660e+05                    0.0  1.127227e+06              104.0   \n",
       "604    1.022249e+05                  602.0  3.117663e+05             6536.0   \n",
       "607    1.862601e+06                    0.0  3.950033e+06              104.0   \n",
       "608    1.865859e+06                    0.0  3.957119e+06              104.0   \n",
       "613    1.918843e+06                    0.0  4.069545e+06              104.0   \n",
       "616    1.819138e+06                    0.0  3.857743e+06              104.0   \n",
       "...             ...                    ...           ...                ...   \n",
       "5102   7.155773e+05                  523.0  1.734431e+03              136.0   \n",
       "5104   7.100000e+01                    0.0  0.000000e+00               32.0   \n",
       "5126   7.156676e+05                  536.0  2.216452e+03              136.0   \n",
       "5128   7.300000e+01                    0.0  0.000000e+00               32.0   \n",
       "5130   7.153514e+05                  537.0  2.499207e+06              168.0   \n",
       "5136   5.569421e+05                  600.0  2.234767e+06              200.0   \n",
       "5147   7.150554e+05                  599.0  2.499199e+06              168.0   \n",
       "5150   5.574177e+05                  599.0  5.465625e+03              168.0   \n",
       "5161   7.155947e+05                  599.0  2.252041e+03              136.0   \n",
       "5162   7.300000e+01                    0.0  0.000000e+00               32.0   \n",
       "5163   1.090000e+02                    0.0  0.000000e+00               32.0   \n",
       "5210   4.200000e+01                    0.0  0.000000e+00               32.0   \n",
       "5505   9.600000e+01                    0.0  0.000000e+00               32.0   \n",
       "5701   5.000000e+01                    0.0  0.000000e+00               32.0   \n",
       "5873   3.300000e+01                    0.0  0.000000e+00               32.0   \n",
       "5902   5.000000e+01                    0.0  0.000000e+00               32.0   \n",
       "6016   5.000000e+01                    0.0  0.000000e+00               32.0   \n",
       "6327   7.800000e+01                    0.0  0.000000e+00               32.0   \n",
       "6631   5.100000e+01                    0.0  0.000000e+00               32.0   \n",
       "6748   7.400000e+01                    0.0  0.000000e+00               32.0   \n",
       "6757   3.300000e+01                    0.0  0.000000e+00               32.0   \n",
       "6758   4.200000e+01                    0.0  0.000000e+00               32.0   \n",
       "6845   5.100000e+01                    0.0  0.000000e+00               32.0   \n",
       "6853   7.400000e+01                    0.0  0.000000e+00               32.0   \n",
       "6906   8.200000e+01                    0.0  0.000000e+00               32.0   \n",
       "6960   3.400000e+01                    0.0  0.000000e+00               32.0   \n",
       "6974   7.800000e+01                    0.0  0.000000e+00               32.0   \n",
       "7100   6.000000e+01                    0.0  0.000000e+00               32.0   \n",
       "7253   7.500000e+01                    0.0  0.000000e+00               32.0   \n",
       "7264   1.463344e+06                    0.0  3.538345e+06                0.0   \n",
       "\n",
       "      Label  Predict  \n",
       "159       0        1  \n",
       "181       0        1  \n",
       "252       0        1  \n",
       "404       1        1  \n",
       "407       1        1  \n",
       "409       1        1  \n",
       "411       1        1  \n",
       "482       1        1  \n",
       "483       1        1  \n",
       "484       1        1  \n",
       "486       1        1  \n",
       "504       0        1  \n",
       "508       1        1  \n",
       "509       1        1  \n",
       "510       1        1  \n",
       "511       1        1  \n",
       "588       1        1  \n",
       "589       1        1  \n",
       "590       1        1  \n",
       "591       1        1  \n",
       "592       1        1  \n",
       "593       1        1  \n",
       "595       1        1  \n",
       "597       1        1  \n",
       "598       1        1  \n",
       "604       1        1  \n",
       "607       1        1  \n",
       "608       1        1  \n",
       "613       1        1  \n",
       "616       1        1  \n",
       "...     ...      ...  \n",
       "5102      1        1  \n",
       "5104      1        1  \n",
       "5126      1        1  \n",
       "5128      1        1  \n",
       "5130      1        1  \n",
       "5136      1        1  \n",
       "5147      1        1  \n",
       "5150      1        1  \n",
       "5161      1        1  \n",
       "5162      1        1  \n",
       "5163      1        1  \n",
       "5210      0        1  \n",
       "5505      0        1  \n",
       "5701      0        1  \n",
       "5873      0        1  \n",
       "5902      0        1  \n",
       "6016      0        1  \n",
       "6327      0        1  \n",
       "6631      0        1  \n",
       "6748      0        1  \n",
       "6757      0        1  \n",
       "6758      0        1  \n",
       "6845      0        1  \n",
       "6853      0        1  \n",
       "6906      0        1  \n",
       "6960      0        1  \n",
       "6974      0        1  \n",
       "7100      0        1  \n",
       "7253      0        1  \n",
       "7264      0        1  \n",
       "\n",
       "[2165 rows x 12 columns]"
      ]
     },
     "execution_count": 76,
     "metadata": {},
     "output_type": "execute_result"
    }
   ],
   "source": [
    "result[result['Predict'] == 1]"
   ]
  },
  {
   "cell_type": "code",
   "execution_count": 77,
   "metadata": {
    "colab": {
     "base_uri": "https://localhost:8080/",
     "height": 669
    },
    "id": "yD7m3P1lppwu",
    "outputId": "d02e0f4d-e60a-4fc0-d583-f6c709777a3e"
   },
   "outputs": [
    {
     "data": {
      "text/html": [
       "<div>\n",
       "<style scoped>\n",
       "    .dataframe tbody tr th:only-of-type {\n",
       "        vertical-align: middle;\n",
       "    }\n",
       "\n",
       "    .dataframe tbody tr th {\n",
       "        vertical-align: top;\n",
       "    }\n",
       "\n",
       "    .dataframe thead th {\n",
       "        text-align: right;\n",
       "    }\n",
       "</style>\n",
       "<table border=\"1\" class=\"dataframe\">\n",
       "  <thead>\n",
       "    <tr style=\"text-align: right;\">\n",
       "      <th></th>\n",
       "      <th>Average Packet Size</th>\n",
       "      <th>Flow Bytes/s</th>\n",
       "      <th>Max Packet Length</th>\n",
       "      <th>Fwd Packet Length Mean</th>\n",
       "      <th>Fwd IAT Min</th>\n",
       "      <th>Total Length of Fwd Packets</th>\n",
       "      <th>Flow IAT Mean</th>\n",
       "      <th>Fwd Packet Length Max</th>\n",
       "      <th>Fwd IAT Std</th>\n",
       "      <th>Fwd Header Length</th>\n",
       "      <th>Label</th>\n",
       "      <th>Predict</th>\n",
       "    </tr>\n",
       "  </thead>\n",
       "  <tbody>\n",
       "    <tr>\n",
       "      <th>410</th>\n",
       "      <td>0.000000</td>\n",
       "      <td>0.000000e+00</td>\n",
       "      <td>0.0</td>\n",
       "      <td>0.000000</td>\n",
       "      <td>0.0</td>\n",
       "      <td>0.0</td>\n",
       "      <td>5.800000e+01</td>\n",
       "      <td>0.0</td>\n",
       "      <td>0.000000e+00</td>\n",
       "      <td>32.0</td>\n",
       "      <td>0</td>\n",
       "      <td>0</td>\n",
       "    </tr>\n",
       "    <tr>\n",
       "      <th>411</th>\n",
       "      <td>218.454545</td>\n",
       "      <td>4.786244e+02</td>\n",
       "      <td>1066.0</td>\n",
       "      <td>139.000000</td>\n",
       "      <td>18.0</td>\n",
       "      <td>973.0</td>\n",
       "      <td>5.020638e+05</td>\n",
       "      <td>565.0</td>\n",
       "      <td>2.021330e+06</td>\n",
       "      <td>232.0</td>\n",
       "      <td>1</td>\n",
       "      <td>1</td>\n",
       "    </tr>\n",
       "    <tr>\n",
       "      <th>412</th>\n",
       "      <td>10.333333</td>\n",
       "      <td>1.127273e+05</td>\n",
       "      <td>31.0</td>\n",
       "      <td>10.333333</td>\n",
       "      <td>1.0</td>\n",
       "      <td>31.0</td>\n",
       "      <td>1.375000e+02</td>\n",
       "      <td>31.0</td>\n",
       "      <td>1.930402e+02</td>\n",
       "      <td>96.0</td>\n",
       "      <td>0</td>\n",
       "      <td>0</td>\n",
       "    </tr>\n",
       "    <tr>\n",
       "      <th>413</th>\n",
       "      <td>9.000000</td>\n",
       "      <td>1.875000e+05</td>\n",
       "      <td>6.0</td>\n",
       "      <td>6.000000</td>\n",
       "      <td>0.0</td>\n",
       "      <td>6.0</td>\n",
       "      <td>6.400000e+01</td>\n",
       "      <td>6.0</td>\n",
       "      <td>0.000000e+00</td>\n",
       "      <td>20.0</td>\n",
       "      <td>0</td>\n",
       "      <td>0</td>\n",
       "    </tr>\n",
       "    <tr>\n",
       "      <th>414</th>\n",
       "      <td>16.333333</td>\n",
       "      <td>2.150000e+07</td>\n",
       "      <td>31.0</td>\n",
       "      <td>14.333333</td>\n",
       "      <td>1.0</td>\n",
       "      <td>43.0</td>\n",
       "      <td>1.000000e+00</td>\n",
       "      <td>31.0</td>\n",
       "      <td>0.000000e+00</td>\n",
       "      <td>60.0</td>\n",
       "      <td>0</td>\n",
       "      <td>0</td>\n",
       "    </tr>\n",
       "    <tr>\n",
       "      <th>415</th>\n",
       "      <td>9.000000</td>\n",
       "      <td>2.400000e+06</td>\n",
       "      <td>6.0</td>\n",
       "      <td>6.000000</td>\n",
       "      <td>0.0</td>\n",
       "      <td>6.0</td>\n",
       "      <td>5.000000e+00</td>\n",
       "      <td>6.0</td>\n",
       "      <td>0.000000e+00</td>\n",
       "      <td>20.0</td>\n",
       "      <td>0</td>\n",
       "      <td>0</td>\n",
       "    </tr>\n",
       "    <tr>\n",
       "      <th>416</th>\n",
       "      <td>38.000000</td>\n",
       "      <td>7.674036e+02</td>\n",
       "      <td>51.0</td>\n",
       "      <td>28.500000</td>\n",
       "      <td>82095.0</td>\n",
       "      <td>57.0</td>\n",
       "      <td>4.104750e+04</td>\n",
       "      <td>51.0</td>\n",
       "      <td>0.000000e+00</td>\n",
       "      <td>40.0</td>\n",
       "      <td>0</td>\n",
       "      <td>0</td>\n",
       "    </tr>\n",
       "    <tr>\n",
       "      <th>417</th>\n",
       "      <td>9.000000</td>\n",
       "      <td>6.000000e+06</td>\n",
       "      <td>6.0</td>\n",
       "      <td>6.000000</td>\n",
       "      <td>0.0</td>\n",
       "      <td>6.0</td>\n",
       "      <td>2.000000e+00</td>\n",
       "      <td>6.0</td>\n",
       "      <td>0.000000e+00</td>\n",
       "      <td>20.0</td>\n",
       "      <td>0</td>\n",
       "      <td>0</td>\n",
       "    </tr>\n",
       "    <tr>\n",
       "      <th>418</th>\n",
       "      <td>9.000000</td>\n",
       "      <td>1.200000e+07</td>\n",
       "      <td>6.0</td>\n",
       "      <td>6.000000</td>\n",
       "      <td>1.0</td>\n",
       "      <td>12.0</td>\n",
       "      <td>1.000000e+00</td>\n",
       "      <td>6.0</td>\n",
       "      <td>0.000000e+00</td>\n",
       "      <td>40.0</td>\n",
       "      <td>0</td>\n",
       "      <td>0</td>\n",
       "    </tr>\n",
       "    <tr>\n",
       "      <th>419</th>\n",
       "      <td>80.333333</td>\n",
       "      <td>2.617946e+01</td>\n",
       "      <td>498.0</td>\n",
       "      <td>90.863636</td>\n",
       "      <td>104.0</td>\n",
       "      <td>1999.0</td>\n",
       "      <td>3.149316e+06</td>\n",
       "      <td>498.0</td>\n",
       "      <td>4.795221e+06</td>\n",
       "      <td>452.0</td>\n",
       "      <td>0</td>\n",
       "      <td>0</td>\n",
       "    </tr>\n",
       "    <tr>\n",
       "      <th>420</th>\n",
       "      <td>73.000000</td>\n",
       "      <td>8.219001e+03</td>\n",
       "      <td>89.0</td>\n",
       "      <td>38.000000</td>\n",
       "      <td>49.0</td>\n",
       "      <td>76.0</td>\n",
       "      <td>1.030133e+04</td>\n",
       "      <td>38.0</td>\n",
       "      <td>0.000000e+00</td>\n",
       "      <td>64.0</td>\n",
       "      <td>0</td>\n",
       "      <td>0</td>\n",
       "    </tr>\n",
       "    <tr>\n",
       "      <th>421</th>\n",
       "      <td>92.000000</td>\n",
       "      <td>4.159355e+03</td>\n",
       "      <td>72.0</td>\n",
       "      <td>56.000000</td>\n",
       "      <td>0.0</td>\n",
       "      <td>56.0</td>\n",
       "      <td>3.077400e+04</td>\n",
       "      <td>56.0</td>\n",
       "      <td>0.000000e+00</td>\n",
       "      <td>20.0</td>\n",
       "      <td>0</td>\n",
       "      <td>0</td>\n",
       "    </tr>\n",
       "    <tr>\n",
       "      <th>422</th>\n",
       "      <td>85.000000</td>\n",
       "      <td>4.043302e+03</td>\n",
       "      <td>78.0</td>\n",
       "      <td>46.000000</td>\n",
       "      <td>0.0</td>\n",
       "      <td>46.0</td>\n",
       "      <td>3.066800e+04</td>\n",
       "      <td>46.0</td>\n",
       "      <td>0.000000e+00</td>\n",
       "      <td>20.0</td>\n",
       "      <td>0</td>\n",
       "      <td>0</td>\n",
       "    </tr>\n",
       "    <tr>\n",
       "      <th>423</th>\n",
       "      <td>75.833333</td>\n",
       "      <td>6.895187e+03</td>\n",
       "      <td>135.0</td>\n",
       "      <td>37.000000</td>\n",
       "      <td>3.0</td>\n",
       "      <td>148.0</td>\n",
       "      <td>1.212440e+04</td>\n",
       "      <td>37.0</td>\n",
       "      <td>3.094714e+04</td>\n",
       "      <td>104.0</td>\n",
       "      <td>0</td>\n",
       "      <td>0</td>\n",
       "    </tr>\n",
       "    <tr>\n",
       "      <th>424</th>\n",
       "      <td>89.000000</td>\n",
       "      <td>1.509259e+06</td>\n",
       "      <td>133.0</td>\n",
       "      <td>30.000000</td>\n",
       "      <td>48.0</td>\n",
       "      <td>60.0</td>\n",
       "      <td>7.200000e+01</td>\n",
       "      <td>30.0</td>\n",
       "      <td>0.000000e+00</td>\n",
       "      <td>40.0</td>\n",
       "      <td>0</td>\n",
       "      <td>0</td>\n",
       "    </tr>\n",
       "    <tr>\n",
       "      <th>425</th>\n",
       "      <td>63.500000</td>\n",
       "      <td>6.859660e+03</td>\n",
       "      <td>73.0</td>\n",
       "      <td>36.000000</td>\n",
       "      <td>4.0</td>\n",
       "      <td>72.0</td>\n",
       "      <td>1.059333e+04</td>\n",
       "      <td>36.0</td>\n",
       "      <td>0.000000e+00</td>\n",
       "      <td>40.0</td>\n",
       "      <td>0</td>\n",
       "      <td>0</td>\n",
       "    </tr>\n",
       "    <tr>\n",
       "      <th>426</th>\n",
       "      <td>86.000000</td>\n",
       "      <td>1.471698e+06</td>\n",
       "      <td>124.0</td>\n",
       "      <td>32.000000</td>\n",
       "      <td>47.0</td>\n",
       "      <td>64.0</td>\n",
       "      <td>7.066667e+01</td>\n",
       "      <td>32.0</td>\n",
       "      <td>0.000000e+00</td>\n",
       "      <td>40.0</td>\n",
       "      <td>0</td>\n",
       "      <td>0</td>\n",
       "    </tr>\n",
       "    <tr>\n",
       "      <th>427</th>\n",
       "      <td>59.250000</td>\n",
       "      <td>1.217391e+06</td>\n",
       "      <td>57.0</td>\n",
       "      <td>41.000000</td>\n",
       "      <td>3.0</td>\n",
       "      <td>82.0</td>\n",
       "      <td>5.366667e+01</td>\n",
       "      <td>41.0</td>\n",
       "      <td>0.000000e+00</td>\n",
       "      <td>40.0</td>\n",
       "      <td>0</td>\n",
       "      <td>0</td>\n",
       "    </tr>\n",
       "    <tr>\n",
       "      <th>428</th>\n",
       "      <td>108.500000</td>\n",
       "      <td>1.176578e+04</td>\n",
       "      <td>148.0</td>\n",
       "      <td>46.000000</td>\n",
       "      <td>49.0</td>\n",
       "      <td>92.0</td>\n",
       "      <td>1.099233e+04</td>\n",
       "      <td>46.0</td>\n",
       "      <td>0.000000e+00</td>\n",
       "      <td>40.0</td>\n",
       "      <td>0</td>\n",
       "      <td>0</td>\n",
       "    </tr>\n",
       "    <tr>\n",
       "      <th>429</th>\n",
       "      <td>9.000000</td>\n",
       "      <td>6.185567e+03</td>\n",
       "      <td>6.0</td>\n",
       "      <td>6.000000</td>\n",
       "      <td>1940.0</td>\n",
       "      <td>12.0</td>\n",
       "      <td>1.940000e+03</td>\n",
       "      <td>6.0</td>\n",
       "      <td>0.000000e+00</td>\n",
       "      <td>40.0</td>\n",
       "      <td>0</td>\n",
       "      <td>0</td>\n",
       "    </tr>\n",
       "  </tbody>\n",
       "</table>\n",
       "</div>"
      ],
      "text/plain": [
       "     Average Packet Size  Flow Bytes/s  Max Packet Length  \\\n",
       "410             0.000000  0.000000e+00                0.0   \n",
       "411           218.454545  4.786244e+02             1066.0   \n",
       "412            10.333333  1.127273e+05               31.0   \n",
       "413             9.000000  1.875000e+05                6.0   \n",
       "414            16.333333  2.150000e+07               31.0   \n",
       "415             9.000000  2.400000e+06                6.0   \n",
       "416            38.000000  7.674036e+02               51.0   \n",
       "417             9.000000  6.000000e+06                6.0   \n",
       "418             9.000000  1.200000e+07                6.0   \n",
       "419            80.333333  2.617946e+01              498.0   \n",
       "420            73.000000  8.219001e+03               89.0   \n",
       "421            92.000000  4.159355e+03               72.0   \n",
       "422            85.000000  4.043302e+03               78.0   \n",
       "423            75.833333  6.895187e+03              135.0   \n",
       "424            89.000000  1.509259e+06              133.0   \n",
       "425            63.500000  6.859660e+03               73.0   \n",
       "426            86.000000  1.471698e+06              124.0   \n",
       "427            59.250000  1.217391e+06               57.0   \n",
       "428           108.500000  1.176578e+04              148.0   \n",
       "429             9.000000  6.185567e+03                6.0   \n",
       "\n",
       "     Fwd Packet Length Mean  Fwd IAT Min  Total Length of Fwd Packets  \\\n",
       "410                0.000000          0.0                          0.0   \n",
       "411              139.000000         18.0                        973.0   \n",
       "412               10.333333          1.0                         31.0   \n",
       "413                6.000000          0.0                          6.0   \n",
       "414               14.333333          1.0                         43.0   \n",
       "415                6.000000          0.0                          6.0   \n",
       "416               28.500000      82095.0                         57.0   \n",
       "417                6.000000          0.0                          6.0   \n",
       "418                6.000000          1.0                         12.0   \n",
       "419               90.863636        104.0                       1999.0   \n",
       "420               38.000000         49.0                         76.0   \n",
       "421               56.000000          0.0                         56.0   \n",
       "422               46.000000          0.0                         46.0   \n",
       "423               37.000000          3.0                        148.0   \n",
       "424               30.000000         48.0                         60.0   \n",
       "425               36.000000          4.0                         72.0   \n",
       "426               32.000000         47.0                         64.0   \n",
       "427               41.000000          3.0                         82.0   \n",
       "428               46.000000         49.0                         92.0   \n",
       "429                6.000000       1940.0                         12.0   \n",
       "\n",
       "     Flow IAT Mean  Fwd Packet Length Max   Fwd IAT Std  Fwd Header Length  \\\n",
       "410   5.800000e+01                    0.0  0.000000e+00               32.0   \n",
       "411   5.020638e+05                  565.0  2.021330e+06              232.0   \n",
       "412   1.375000e+02                   31.0  1.930402e+02               96.0   \n",
       "413   6.400000e+01                    6.0  0.000000e+00               20.0   \n",
       "414   1.000000e+00                   31.0  0.000000e+00               60.0   \n",
       "415   5.000000e+00                    6.0  0.000000e+00               20.0   \n",
       "416   4.104750e+04                   51.0  0.000000e+00               40.0   \n",
       "417   2.000000e+00                    6.0  0.000000e+00               20.0   \n",
       "418   1.000000e+00                    6.0  0.000000e+00               40.0   \n",
       "419   3.149316e+06                  498.0  4.795221e+06              452.0   \n",
       "420   1.030133e+04                   38.0  0.000000e+00               64.0   \n",
       "421   3.077400e+04                   56.0  0.000000e+00               20.0   \n",
       "422   3.066800e+04                   46.0  0.000000e+00               20.0   \n",
       "423   1.212440e+04                   37.0  3.094714e+04              104.0   \n",
       "424   7.200000e+01                   30.0  0.000000e+00               40.0   \n",
       "425   1.059333e+04                   36.0  0.000000e+00               40.0   \n",
       "426   7.066667e+01                   32.0  0.000000e+00               40.0   \n",
       "427   5.366667e+01                   41.0  0.000000e+00               40.0   \n",
       "428   1.099233e+04                   46.0  0.000000e+00               40.0   \n",
       "429   1.940000e+03                    6.0  0.000000e+00               40.0   \n",
       "\n",
       "     Label  Predict  \n",
       "410      0        0  \n",
       "411      1        1  \n",
       "412      0        0  \n",
       "413      0        0  \n",
       "414      0        0  \n",
       "415      0        0  \n",
       "416      0        0  \n",
       "417      0        0  \n",
       "418      0        0  \n",
       "419      0        0  \n",
       "420      0        0  \n",
       "421      0        0  \n",
       "422      0        0  \n",
       "423      0        0  \n",
       "424      0        0  \n",
       "425      0        0  \n",
       "426      0        0  \n",
       "427      0        0  \n",
       "428      0        0  \n",
       "429      0        0  "
      ]
     },
     "execution_count": 77,
     "metadata": {},
     "output_type": "execute_result"
    }
   ],
   "source": [
    "result[410:430]"
   ]
  }
 ],
 "metadata": {
  "colab": {
   "collapsed_sections": [
    "SCEkDfpOFPQX",
    "3P69z9kfupES",
    "eLikdx9Legm0",
    "eh-k8KdMhJ_Q",
    "Iiskwr3VmoL5",
    "5PElFLh5oYzU",
    "pnHSPBrDodIs"
   ],
   "name": "Web Attack Detection (ML IDS)",
   "provenance": []
  },
  "kernelspec": {
   "display_name": "Python 3",
   "language": "python",
   "name": "python3"
  },
  "language_info": {
   "codemirror_mode": {
    "name": "ipython",
    "version": 3
   },
   "file_extension": ".py",
   "mimetype": "text/x-python",
   "name": "python",
   "nbconvert_exporter": "python",
   "pygments_lexer": "ipython3",
   "version": "3.7.4"
  }
 },
 "nbformat": 4,
 "nbformat_minor": 1
}
