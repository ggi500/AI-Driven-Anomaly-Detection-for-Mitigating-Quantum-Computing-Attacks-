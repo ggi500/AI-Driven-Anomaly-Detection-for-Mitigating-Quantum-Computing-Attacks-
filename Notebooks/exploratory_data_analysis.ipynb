{
 "cells": [
  {
   "cell_type": "code",
   "execution_count": 1,
   "metadata": {},
   "outputs": [
    {
     "name": "stdout",
     "output_type": "stream",
     "text": [
      "Dataset URL: https://www.kaggle.com/datasets/mrwellsdavid/unsw-nb15\n",
      "Error: The file 'datasets/unsw_nb15/UNSW-NB15.csv' does not exist.\n",
      "Dataset could not be loaded. Exiting the script.\n"
     ]
    }
   ],
   "source": [
    "import os\n",
    "import pandas as pd\n",
    "import numpy as np\n",
    "import matplotlib.pyplot as plt\n",
    "import seaborn as sns\n",
    "import kaggle\n",
    "\n",
    "# Define the directory to save the dataset\n",
    "data_dir = 'datasets/unsw_nb15'\n",
    "os.makedirs(data_dir, exist_ok=True)\n",
    "\n",
    "# Download the UNSW-NB15 dataset from Kaggle\n",
    "kaggle.api.dataset_download_files('mrwellsdavid/unsw-nb15', path=data_dir, unzip=True)\n",
    "\n",
    "# Path to the downloaded CSV file\n",
    "file_path = os.path.join(data_dir, 'UNSW-NB15.csv')\n",
    "\n",
    "# Check if the file exists\n",
    "if os.path.exists(file_path):\n",
    "    swift_data = pd.read_csv(file_path)\n",
    "else:\n",
    "    print(f\"Error: The file '{file_path}' does not exist.\")\n",
    "\n",
    "    # raise FileNotFoundError(f\"The file '{file_path}' was not found.\")\n",
    "    \n",
    "# Proceed only if the file was loaded successfully\n",
    "if 'swift_data' in locals():\n",
    "    # Display basic info about the dataset\n",
    "    print(\"Basic Information of the Dataset:\")\n",
    "    swift_data.info()\n",
    "\n",
    "    # Summary statistics of the dataset\n",
    "    print(\"\\nSummary Statistics:\")\n",
    "    print(swift_data.describe())\n",
    "\n",
    "    # Check for missing values\n",
    "    print(\"\\nMissing Values in Each Column:\")\n",
    "    print(swift_data.isnull().sum())\n",
    "\n",
    "    # Visualization examples\n",
    "\n",
    "    # Histogram of transaction amounts\n",
    "    if 'amount' in swift_data.columns:\n",
    "        plt.figure(figsize=(10, 6))\n",
    "        sns.histplot(swift_data['amount'], bins=50)\n",
    "        plt.title('Distribution of Transaction Amounts')\n",
    "        plt.xlabel('Amount')\n",
    "        plt.ylabel('Frequency')\n",
    "        plt.show()\n",
    "    else:\n",
    "        print(\"Column 'amount' not found in the dataset.\")\n",
    "\n",
    "    # Correlation heatmap\n",
    "    plt.figure(figsize=(12, 8))\n",
    "    sns.heatmap(swift_data.corr(), annot=True, cmap='coolwarm')\n",
    "    plt.title('Correlation Heatmap')\n",
    "    plt.show()\n",
    "\n",
    "    # Example of visualizing categorical data - Distribution of Currency Types\n",
    "    if 'currency' in swift_data.columns:\n",
    "        plt.figure(figsize=(10, 6))\n",
    "        sns.countplot(x='currency', data=swift_data)\n",
    "        plt.title('Distribution of Currency Types')\n",
    "        plt.xlabel('Currency')\n",
    "        plt.ylabel('Count')\n",
    "        plt.show()\n",
    "    else:\n",
    "        print(\"Column 'currency' not found in the dataset.\")\n",
    "\n",
    "    # Optional: Display the first few rows of the dataset to inspect\n",
    "    print(\"\\nFirst 5 Rows of the Dataset:\")\n",
    "    print(swift_data.head())\n",
    "else:\n",
    "    print(\"Dataset could not be loaded. Exiting the script.\")\n",
    "\n"
   ]
  }
 ],
 "metadata": {
  "kernelspec": {
   "display_name": "Python 3",
   "language": "python",
   "name": "python3"
  },
  "language_info": {
   "codemirror_mode": {
    "name": "ipython",
    "version": 3
   },
   "file_extension": ".py",
   "mimetype": "text/x-python",
   "name": "python",
   "nbconvert_exporter": "python",
   "pygments_lexer": "ipython3",
   "version": "3.10.13"
  }
 },
 "nbformat": 4,
 "nbformat_minor": 2
}
